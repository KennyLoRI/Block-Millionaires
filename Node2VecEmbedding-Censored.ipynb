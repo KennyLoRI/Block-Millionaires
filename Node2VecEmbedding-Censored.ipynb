{
 "cells": [
  {
   "cell_type": "code",
   "execution_count": 61,
   "metadata": {},
   "outputs": [],
   "source": [
    "#import packages and data\n",
    "import pandas as pd\n",
    "import random\n",
    "random.seed(30)\n",
    "df3_clean = pd.read_csv(\"second_data1709.csv\", header = 0)\n",
    "df3_additional = pd.read_csv(\"df3addition_data1709.csv\", header = 0)\n",
    "df3_additional = df3_additional.loc[(df3_additional[\"num_in_trans\"]!= 0)&(df3_additional[\"num_out_trans\"]!= 0)]\n",
    "EL_final = pd.read_csv(\"EL_only_origin.csv\", header = 0)\n",
    "EL_additional = pd.read_csv(\"EL_only_origin_add0709.csv\", header = 0)\n",
    "EL_additional = EL_additional.dropna()\n",
    "EL_clean = EL_final.dropna()\n",
    "corrected_numOUT = pd.read_csv(\"corrected_numoutsins.csv\", header = 0)\n"
   ]
  },
  {
   "cell_type": "code",
   "execution_count": 62,
   "metadata": {},
   "outputs": [],
   "source": [
    "#solve a bug (OUT was wrongly defined before and it was easier to just create the right column again instead of doing everything from scratch again)\n",
    "df3_clean.num_in_trans = corrected_numOUT.num_in_trans\n",
    "df3_clean.num_out_trans = corrected_numOUT.num_out_trans"
   ]
  },
  {
   "cell_type": "markdown",
   "metadata": {},
   "source": [
    "## cleaning"
   ]
  },
  {
   "cell_type": "code",
   "execution_count": 63,
   "metadata": {},
   "outputs": [],
   "source": [
    "df3_clean = df3_clean.loc[(df3_clean[\"num_in_trans\"]!= 0)&(df3_clean[\"num_out_trans\"]!= 0)]\n",
    "df3_clean = df3_clean.loc[df3_clean[\"wallet_address\"]!= \"an address\"] #delete all observations without meaningful transactions as they just lead to many NAs (in the real application one can create anot"
   ]
  },
  {
   "cell_type": "code",
   "execution_count": 64,
   "metadata": {},
   "outputs": [],
   "source": [
    "df3_clean\n",
    "df3_one = df3_clean.drop(columns = [\"address_balance\",  \"Unnamed: 0\", \"address\", \"full_name\", \"address_length\", \"hash\", \"address_beginning\"])"
   ]
  },
  {
   "cell_type": "code",
   "execution_count": 65,
   "metadata": {},
   "outputs": [],
   "source": [
    "df3_two = df3_additional.drop(columns = [ \"Unnamed: 0\", \"address\", \"full_name\", \"address_length\", \"address_beginning\", 'num_out_trans_1neighb', 'avg_tx_out_neighb',\n",
    "       'avg_tx_in_neighb'])"
   ]
  },
  {
   "cell_type": "code",
   "execution_count": 68,
   "metadata": {},
   "outputs": [
    {
     "data": {
      "text/plain": [
       "array([ True,  True,  True,  True,  True,  True,  True,  True,  True,\n",
       "        True,  True,  True,  True,  True,  True,  True,  True,  True,\n",
       "        True,  True,  True,  True,  True,  True,  True,  True,  True,\n",
       "        True,  True,  True,  True,  True,  True,  True,  True,  True,\n",
       "        True,  True,  True,  True,  True,  True,  True,  True,  True,\n",
       "        True,  True,  True,  True,  True,  True])"
      ]
     },
     "execution_count": 68,
     "metadata": {},
     "output_type": "execute_result"
    }
   ],
   "source": [
    "df3_one.columns == df3_two.columns"
   ]
  },
  {
   "cell_type": "code",
   "execution_count": 69,
   "metadata": {},
   "outputs": [
    {
     "data": {
      "text/plain": [
       "Index(['Unnamed: 0.1', 'sow_estimated_net_worth_value', 'wallet_address',\n",
       "       'num_in_trans', 'num_out_trans', 'avg_trans_out', 'avg_trans_in',\n",
       "       'sum_trans_in', 'sum_trans_out', 'max_trans_out', 'max_trans_in',\n",
       "       'std_trans_in', 'std_trans_out', 'min_trans_out', 'min_trans_in',\n",
       "       'unique_tpartn_out', 'unique_tpartn_in', 'avg_transcost_out',\n",
       "       'avg_transcost_in', 'max_transcost_out', 'max_transcost_in',\n",
       "       'std_transcost_out', 'std_transcost_in', 'timedelta_trans_out',\n",
       "       'timedelta_trans_in', 'duration_out', 'num_in_trans_1neighb',\n",
       "       'avg_oneNightStands_out', 'avg_oneNightStands_in', 'max_tx_out_neighb',\n",
       "       'max_tx_in_neighb', 'sum_tx_in_neighb', 'sum_tx_out_neighb',\n",
       "       'std_tx_out_neighb', 'std_tx_in_neighb', 'unique_tx_out_neighb',\n",
       "       'unique_tx_in_neighb', 'avg_txcost_out_neighb', 'avg_txcost_in_neighb',\n",
       "       'max_txcost_in_neighb', 'max_txcost_out_neighb', 'num_in_transERC',\n",
       "       'num_out_transERC', 'ERCunique_tpartn_out', 'ERCunique_tpartn_in',\n",
       "       'ERCavg_transcost_out', 'ERCavg_transcost_in', 'ERCmax_transcost_out',\n",
       "       'ERC_nb_tkn_tot', 'high_pressure_sells', 'high_pressure_buys'],\n",
       "      dtype='object')"
      ]
     },
     "execution_count": 69,
     "metadata": {},
     "output_type": "execute_result"
    }
   ],
   "source": [
    "df3_final = df3_one.append(df3_two, ignore_index=True)\n",
    "df3_final.columns"
   ]
  },
  {
   "cell_type": "code",
   "execution_count": 70,
   "metadata": {},
   "outputs": [
    {
     "data": {
      "text/plain": [
       "Index(['sow_estimated_net_worth_value', 'wallet_address', 'num_in_trans',\n",
       "       'num_out_trans', 'avg_trans_out', 'avg_trans_in', 'sum_trans_in',\n",
       "       'max_trans_out', 'max_trans_in', 'std_trans_in', 'std_trans_out',\n",
       "       'min_trans_out', 'min_trans_in', 'unique_tpartn_out',\n",
       "       'unique_tpartn_in', 'avg_transcost_out', 'avg_transcost_in',\n",
       "       'max_transcost_out', 'std_transcost_out', 'duration_out',\n",
       "       'num_in_trans_1neighb', 'avg_oneNightStands_out',\n",
       "       'avg_oneNightStands_in', 'max_tx_out_neighb', 'max_tx_in_neighb',\n",
       "       'sum_tx_in_neighb', 'sum_tx_out_neighb', 'std_tx_out_neighb',\n",
       "       'unique_tx_out_neighb', 'avg_txcost_out_neighb',\n",
       "       'max_txcost_out_neighb', 'num_in_transERC', 'num_out_transERC',\n",
       "       'ERCunique_tpartn_out', 'ERCunique_tpartn_in', 'ERCavg_transcost_out',\n",
       "       'ERCavg_transcost_in', 'ERCmax_transcost_out', 'ERC_nb_tkn_tot',\n",
       "       'high_pressure_sells', 'high_pressure_buys'],\n",
       "      dtype='object')"
      ]
     },
     "execution_count": 70,
     "metadata": {},
     "output_type": "execute_result"
    }
   ],
   "source": [
    "df_final = df3_final.drop(columns =  [\"avg_txcost_in_neighb\",\"Unnamed: 0.1\", \"std_tx_in_neighb\", \"std_transcost_in\", \"max_transcost_in\", \"std_tx_in_neighb\", \"unique_tx_in_neighb\", \"timedelta_trans_out\", \"timedelta_trans_in\", \"max_txcost_in_neighb\", \"sum_trans_out\"])\n",
    "df_final.columns"
   ]
  },
  {
   "cell_type": "code",
   "execution_count": 74,
   "metadata": {},
   "outputs": [],
   "source": [
    "df_final = df_final.fillna(0) #replace the NAs with zeros as the only emerge because there were no such transactions that the API could have mentioned"
   ]
  },
  {
   "cell_type": "code",
   "execution_count": null,
   "metadata": {},
   "outputs": [],
   "source": [
    "#df_final this is the final data set without node embeddings"
   ]
  },
  {
   "cell_type": "markdown",
   "metadata": {},
   "source": [
    "## create embeddings"
   ]
  },
  {
   "cell_type": "code",
   "execution_count": 44,
   "metadata": {},
   "outputs": [],
   "source": [
    "EL_clean = EL_clean.drop(columns=\"Unnamed: 0\")"
   ]
  },
  {
   "cell_type": "code",
   "execution_count": 46,
   "metadata": {},
   "outputs": [],
   "source": [
    "EL_clean = EL_clean.append(EL_additional, ignore_index= True) #append the additional edge list of the 300 extra sampled addresses"
   ]
  },
  {
   "cell_type": "code",
   "execution_count": 2,
   "metadata": {},
   "outputs": [],
   "source": [
    "#pip install node2vec --upgrade"
   ]
  },
  {
   "cell_type": "code",
   "execution_count": 216,
   "metadata": {},
   "outputs": [],
   "source": [
    "#pip install --upgrade node2vec"
   ]
  },
  {
   "cell_type": "code",
   "execution_count": 48,
   "metadata": {},
   "outputs": [],
   "source": [
    "import networkx as nx\n",
    "graph = nx.from_pandas_edgelist(EL_clean, 'tx_from', 'tx_to', create_using=nx.DiGraph())#do it without weights as some are 0 and that´s not possible. ecause weights (after normalization) are treated as walk probabilities, so essentially using the weights you can control how strongly two nodes are connected."
   ]
  },
  {
   "cell_type": "code",
   "execution_count": 49,
   "metadata": {},
   "outputs": [
    {
     "name": "stdout",
     "output_type": "stream",
     "text": [
      "Name: \n",
      "Type: DiGraph\n",
      "Number of nodes: 31295\n",
      "Number of edges: 75813\n",
      "Average in degree:   2.4225\n",
      "Average out degree:   2.4225\n"
     ]
    }
   ],
   "source": [
    "print(nx.info(graph))"
   ]
  },
  {
   "cell_type": "code",
   "execution_count": 26,
   "metadata": {},
   "outputs": [
    {
     "name": "stdout",
     "output_type": "stream",
     "text": [
      "Requirement already satisfied: numpy in /Users/Kenneth/opt/anaconda3/lib/python3.8/site-packages (1.21.2)\n",
      "Note: you may need to restart the kernel to use updated packages.\n"
     ]
    }
   ],
   "source": [
    "#pip install numpy\n"
   ]
  },
  {
   "cell_type": "code",
   "execution_count": 50,
   "metadata": {},
   "outputs": [],
   "source": [
    "from node2vec import Node2Vec"
   ]
  },
  {
   "cell_type": "code",
   "execution_count": 51,
   "metadata": {},
   "outputs": [
    {
     "name": "stderr",
     "output_type": "stream",
     "text": [
      "Computing transition probabilities: 100%|██████████| 31295/31295 [00:14<00:00, 2170.00it/s]\n",
      "Generating walks (CPU: 1):   0%|          | 0/50 [00:00<?, ?it/s]\n",
      "\u001b[A\n",
      "\n",
      "\u001b[A\u001b[A\n",
      "Generating walks (CPU: 1):   4%|▍         | 2/50 [00:10<04:07,  5.16s/it]\n",
      "\n",
      "\u001b[A\u001b[A\n",
      "\u001b[A\n",
      "\n",
      "Generating walks (CPU: 1):   6%|▌         | 3/50 [00:20<05:15,  6.71s/it]\n",
      "\n",
      "\u001b[A\u001b[A\n",
      "Generating walks (CPU: 1):   8%|▊         | 4/50 [00:30<05:57,  7.77s/it]\n",
      "\n",
      "\u001b[A\u001b[A\n",
      "Generating walks (CPU: 1):  10%|█         | 5/50 [00:41<06:24,  8.55s/it]\n",
      "\n",
      "\u001b[A\u001b[A\n",
      "Generating walks (CPU: 1):  12%|█▏        | 6/50 [00:51<06:33,  8.95s/it]\n",
      "\n",
      "\u001b[A\u001b[A\n",
      "Generating walks (CPU: 1):  14%|█▍        | 7/50 [01:01<06:38,  9.26s/it]\n",
      "\n",
      "\u001b[A\u001b[A\n",
      "Generating walks (CPU: 1):  16%|█▌        | 8/50 [01:11<06:38,  9.48s/it]\n",
      "\u001b[A\n",
      "\n",
      "Generating walks (CPU: 1):  18%|█▊        | 9/50 [01:21<06:41,  9.80s/it]\n",
      "\u001b[A\n",
      "\n",
      "Generating walks (CPU: 1):  20%|██        | 10/50 [01:31<06:33,  9.84s/it]\n",
      "\n",
      "\u001b[A\u001b[A\n",
      "Generating walks (CPU: 1):  22%|██▏       | 11/50 [01:41<06:29,  9.98s/it]\n",
      "\n",
      "Generating walks (CPU: 1):  24%|██▍       | 12/50 [01:51<06:18,  9.95s/it]\n",
      "Generating walks (CPU: 1):  26%|██▌       | 13/50 [02:01<06:08,  9.95s/it]\n",
      "\u001b[A\n",
      "\n",
      "\u001b[A\u001b[A\n",
      "\u001b[A\n",
      "\n",
      "Generating walks (CPU: 1):  28%|██▊       | 14/50 [02:12<06:03, 10.10s/it]\n",
      "\u001b[A\n",
      "\n",
      "Generating walks (CPU: 1):  30%|███       | 15/50 [02:22<05:53, 10.11s/it]\n",
      "\n",
      "\u001b[A\u001b[A\n",
      "Generating walks (CPU: 1):  32%|███▏      | 16/50 [02:32<05:42, 10.08s/it]\n",
      "Generating walks (CPU: 1):  34%|███▍      | 17/50 [02:42<05:34, 10.12s/it]\n",
      "\n",
      "\u001b[A\u001b[A\n",
      "\u001b[A\n",
      "\n",
      "Generating walks (CPU: 1):  36%|███▌      | 18/50 [02:52<05:25, 10.16s/it]\n",
      "\n",
      "\u001b[A\u001b[A\n",
      "Generating walks (CPU: 1):  38%|███▊      | 19/50 [03:02<05:13, 10.10s/it]\n",
      "\n",
      "\u001b[A\u001b[A\n",
      "Generating walks (CPU: 1):  40%|████      | 20/50 [03:12<05:02, 10.07s/it]\n",
      "\n",
      "\u001b[A\u001b[A\n",
      "Generating walks (CPU: 1):  42%|████▏     | 21/50 [03:22<04:52, 10.08s/it]\n",
      "\n",
      "Generating walks (CPU: 1):  44%|████▍     | 22/50 [03:33<04:45, 10.19s/it]\n",
      "Generating walks (CPU: 1):  46%|████▌     | 23/50 [03:43<04:34, 10.15s/it]\n",
      "\n",
      "\u001b[A\u001b[A\n",
      "Generating walks (CPU: 1):  48%|████▊     | 24/50 [03:53<04:24, 10.16s/it]\n",
      "\n",
      "\u001b[A\u001b[A\n",
      "Generating walks (CPU: 1):  50%|█████     | 25/50 [04:03<04:13, 10.15s/it]\n",
      "\n",
      "\u001b[A\u001b[A\n",
      "\u001b[A\n",
      "\n",
      "Generating walks (CPU: 1):  52%|█████▏    | 26/50 [04:13<04:02, 10.12s/it]\n",
      "\u001b[A\n",
      "\n",
      "Generating walks (CPU: 1):  54%|█████▍    | 27/50 [04:23<03:53, 10.17s/it]\n",
      "\u001b[A\n",
      "\n",
      "Generating walks (CPU: 1):  56%|█████▌    | 28/50 [04:34<03:43, 10.16s/it]\n",
      "\u001b[A\n",
      "\n",
      "Generating walks (CPU: 1):  58%|█████▊    | 29/50 [04:44<03:34, 10.20s/it]\n",
      "\u001b[A\n",
      "\n",
      "Generating walks (CPU: 1):  60%|██████    | 30/50 [04:54<03:21, 10.09s/it]\n",
      "\u001b[A\n",
      "\n",
      "\u001b[A\u001b[A\n",
      "Generating walks (CPU: 1):  62%|██████▏   | 31/50 [05:04<03:11, 10.06s/it]\n",
      "\n",
      "\u001b[A\u001b[A\n",
      "Generating walks (CPU: 1):  64%|██████▍   | 32/50 [05:15<03:05, 10.33s/it]\n",
      "\n",
      "\u001b[A\u001b[A\n",
      "Generating walks (CPU: 1):  66%|██████▌   | 33/50 [05:26<02:58, 10.50s/it]\n",
      "\n",
      "Generating walks (CPU: 1):  68%|██████▊   | 34/50 [05:36<02:49, 10.60s/it]\n",
      "\u001b[A\n",
      "\n",
      "Generating walks (CPU: 1):  70%|███████   | 35/50 [05:47<02:36, 10.46s/it]\n",
      "\u001b[A\n",
      "\n",
      "Generating walks (CPU: 1):  72%|███████▏  | 36/50 [05:57<02:25, 10.36s/it]\n",
      "\u001b[A\n",
      "\n",
      "Generating walks (CPU: 1):  74%|███████▍  | 37/50 [06:07<02:13, 10.29s/it]\n",
      "\u001b[A\n",
      "\n",
      "Generating walks (CPU: 1):  76%|███████▌  | 38/50 [06:17<02:02, 10.18s/it]\n",
      "\u001b[A\n",
      "\n",
      "Generating walks (CPU: 1):  78%|███████▊  | 39/50 [06:27<01:51, 10.09s/it]\n",
      "\u001b[A\n",
      "\n",
      "Generating walks (CPU: 1):  80%|████████  | 40/50 [06:37<01:41, 10.12s/it]\n",
      "\u001b[A\n",
      "\n",
      "Generating walks (CPU: 1):  82%|████████▏ | 41/50 [06:47<01:31, 10.16s/it]\n",
      "\u001b[A\n",
      "\n",
      "Generating walks (CPU: 1):  84%|████████▍ | 42/50 [06:58<01:21, 10.24s/it]\n",
      "\u001b[A\n",
      "\n",
      "\u001b[A\u001b[A\n",
      "Generating walks (CPU: 1):  86%|████████▌ | 43/50 [07:09<01:13, 10.49s/it]\n",
      "\n",
      "Generating walks (CPU: 1):  88%|████████▊ | 44/50 [07:19<01:01, 10.33s/it]\n",
      "\u001b[A\n",
      "\n",
      "Generating walks (CPU: 1):  90%|█████████ | 45/50 [07:29<00:51, 10.29s/it]\n",
      "\u001b[A\n",
      "\n",
      "Generating walks (CPU: 1):  92%|█████████▏| 46/50 [07:39<00:40, 10.15s/it]\n",
      "\u001b[A\n",
      "\n",
      "Generating walks (CPU: 1):  94%|█████████▍| 47/50 [07:49<00:30, 10.15s/it]\n",
      "\u001b[A\n",
      "\n",
      "Generating walks (CPU: 1):  96%|█████████▌| 48/50 [07:59<00:20, 10.16s/it]\n",
      "\u001b[A\n",
      "\n",
      "Generating walks (CPU: 1):  98%|█████████▊| 49/50 [08:09<00:10, 10.19s/it]\n",
      "Generating walks (CPU: 1): 100%|██████████| 50/50 [08:19<00:00, 10.06s/it]\n",
      "\n",
      "\u001b[A\u001b[A\n",
      "Generating walks (CPU: 2): 100%|██████████| 50/50 [08:28<00:00, 10.16s/it]\n",
      "Generating walks (CPU: 4): 100%|██████████| 50/50 [08:29<00:00, 10.18s/it]\n",
      "Generating walks (CPU: 1): 100%|██████████| 50/50 [08:29<00:00, 10.18s/it]\n",
      "Generating walks (CPU: 3): 100%|██████████| 50/50 [08:29<00:00, 10.18s/it]\n"
     ]
    }
   ],
   "source": [
    "\n",
    "# Precompute probabilities and generate walks - **ON WINDOWS ONLY WORKS WITH workers=1** ##hsnr jetzt auf 12 dimensions stat 32. ggf besser wegen overfitting\n",
    "node2vec_10 = Node2Vec(graph, dimensions=8, walk_length=10, num_walks=200, p = 1.1, q = 0.9, workers=4, temp_folder = \"/Users/Kenneth/Desktop/crypto/BA_data_science\")  # Use temp_folder for big graphs #q>p damit mehr die Strukturellen Ähnlichkeiten untersucht werden als die Communities\n",
    "\n",
    "# Embed nodes\n",
    "model_10 = node2vec_10.fit(window=10, min_count=1, batch_words=5)  # Any keywords acceptable by gensim.Word2Vec can be passed, `dimensions` and `workers` are automatically passed (from the Node2Vec constructor)\n",
    "\n",
    "# Look for most similar nodes\n",
    "#model.wv.most_similar('2')  # Output node names are always strings\n",
    "\n",
    "# Save embeddings for later use\n",
    "#model.wv.save_word2vec_format(\"embedding.txt\")\n",
    "\n",
    "# Save model for later use\n",
    "#model.save(\"model.txt\")\n",
    "\n"
   ]
  },
  {
   "cell_type": "code",
   "execution_count": 54,
   "metadata": {},
   "outputs": [],
   "source": [
    "import numpy as np\n",
    "import matplotlib.pyplot as plt\n",
    "import pandas as pd\n",
    "#import statsmodels.api as sm\n",
    "from sklearn.model_selection import train_test_split\n",
    "from sklearn.linear_model import LinearRegression\n",
    "from sklearn.metrics import mean_squared_error\n",
    "from math import sqrt\n",
    "from sklearn import linear_model\n",
    "from sklearn.model_selection import cross_validate"
   ]
  },
  {
   "cell_type": "code",
   "execution_count": null,
   "metadata": {},
   "outputs": [],
   "source": [
    "nodes = df3_final.wallet_address\n",
    "\n",
    "hi = []\n",
    "for node in nodes: \n",
    "    x= pd.DataFrame(model_10.wv[str(node)])\n",
    "    y = x.transpose()\n",
    "    y[\"wallet_address\"] = node\n",
    "    hi.append(y)\n",
    "    final_6 = pd.concat(hi)\n",
    "final_6"
   ]
  },
  {
   "cell_type": "code",
   "execution_count": 79,
   "metadata": {},
   "outputs": [],
   "source": [
    "result = pd.merge(df_final, final_6, on = [\"wallet_address\"])"
   ]
  },
  {
   "cell_type": "code",
   "execution_count": 80,
   "metadata": {},
   "outputs": [],
   "source": [
    "modelling_data = result.drop(columns = [\"wallet_address\"])"
   ]
  },
  {
   "cell_type": "code",
   "execution_count": 81,
   "metadata": {},
   "outputs": [],
   "source": [
    "modelling_data = modelling_data.drop(columns=\"Unnamed: 0\")"
   ]
  },
  {
   "cell_type": "code",
   "execution_count": 82,
   "metadata": {},
   "outputs": [],
   "source": [
    "modelling_data = modelling_data.dropna()"
   ]
  },
  {
   "cell_type": "code",
   "execution_count": 193,
   "metadata": {},
   "outputs": [
    {
     "data": {
      "text/plain": [
       "sow_estimated_net_worth_value    0\n",
       "num_in_trans                     0\n",
       "num_out_trans                    0\n",
       "avg_trans_out                    0\n",
       "avg_trans_in                     0\n",
       "sum_trans_in                     0\n",
       "max_trans_out                    0\n",
       "max_trans_in                     0\n",
       "std_trans_in                     0\n",
       "std_trans_out                    0\n",
       "min_trans_out                    0\n",
       "min_trans_in                     0\n",
       "unique_tpartn_out                0\n",
       "unique_tpartn_in                 0\n",
       "avg_transcost_out                0\n",
       "avg_transcost_in                 0\n",
       "max_transcost_out                0\n",
       "std_transcost_out                0\n",
       "duration_out                     0\n",
       "num_in_trans_1neighb             0\n",
       "avg_oneNightStands_out           0\n",
       "avg_oneNightStands_in            0\n",
       "max_tx_out_neighb                0\n",
       "max_tx_in_neighb                 0\n",
       "sum_tx_in_neighb                 0\n",
       "sum_tx_out_neighb                0\n",
       "std_tx_out_neighb                0\n",
       "unique_tx_out_neighb             0\n",
       "avg_txcost_out_neighb            0\n",
       "max_txcost_out_neighb            0\n",
       "num_in_transERC                  0\n",
       "num_out_transERC                 0\n",
       "ERCunique_tpartn_out             0\n",
       "ERCunique_tpartn_in              0\n",
       "ERCavg_transcost_out             0\n",
       "ERCavg_transcost_in              0\n",
       "ERCmax_transcost_out             0\n",
       "ERC_nb_tkn_tot                   0\n",
       "high_pressure_sells              0\n",
       "high_pressure_buys               0\n",
       "0                                0\n",
       "1                                0\n",
       "2                                0\n",
       "3                                0\n",
       "4                                0\n",
       "5                                0\n",
       "6                                0\n",
       "7                                0\n",
       "dtype: int64"
      ]
     },
     "execution_count": 193,
     "metadata": {},
     "output_type": "execute_result"
    }
   ],
   "source": [
    "pd.DataFrame(modelling_data).isnull().sum()"
   ]
  },
  {
   "cell_type": "markdown",
   "metadata": {},
   "source": [
    "## Create X & Y Train/Test Data Set"
   ]
  },
  {
   "cell_type": "code",
   "execution_count": 84,
   "metadata": {},
   "outputs": [],
   "source": [
    "train_df, test_df = train_test_split(modelling_data, test_size = 0.25, random_state = 0)"
   ]
  },
  {
   "cell_type": "code",
   "execution_count": 86,
   "metadata": {},
   "outputs": [
    {
     "data": {
      "text/plain": [
       "0.267260579064588"
      ]
     },
     "execution_count": 86,
     "metadata": {},
     "output_type": "execute_result"
    }
   ],
   "source": [
    "train_df.sow_estimated_net_worth_value.sum()/len(train_df.sow_estimated_net_worth_value)"
   ]
  },
  {
   "cell_type": "code",
   "execution_count": 87,
   "metadata": {},
   "outputs": [
    {
     "data": {
      "text/plain": [
       "449"
      ]
     },
     "execution_count": 87,
     "metadata": {},
     "output_type": "execute_result"
    }
   ],
   "source": [
    "len(train_df.sow_estimated_net_worth_value)"
   ]
  },
  {
   "cell_type": "code",
   "execution_count": 88,
   "metadata": {},
   "outputs": [],
   "source": [
    "\n",
    "X_train = train_df.loc[:, modelling_data.columns != \"sow_estimated_net_worth_value\"]\n",
    "y_train = train_df.sow_estimated_net_worth_value\n",
    "X_test = test_df.loc[:, modelling_data.columns != \"sow_estimated_net_worth_value\"]\n",
    "y_test = test_df.sow_estimated_net_worth_value"
   ]
  },
  {
   "cell_type": "code",
   "execution_count": 98,
   "metadata": {},
   "outputs": [],
   "source": [
    "X_train.to_csv(\"X_trainNonOver_8_3.csv\")\n",
    "y_train.to_csv(\"y_trainNonOver_8_3.csv\")\n",
    "X_test.to_csv(\"X_testNonOver_8_3.csv\")\n",
    "y_test.to_csv(\"y_testNonOver_8_3.csv\")"
   ]
  }
 ],
 "metadata": {
  "interpreter": {
   "hash": "d2fafe21445a0cb624ecfee57800ddd74a7cc2c930345110d04bdef541ef57b3"
  },
  "kernelspec": {
   "display_name": "Python 3",
   "language": "python",
   "name": "python3"
  },
  "language_info": {
   "codemirror_mode": {
    "name": "ipython",
    "version": 3
   },
   "file_extension": ".py",
   "mimetype": "text/x-python",
   "name": "python",
   "nbconvert_exporter": "python",
   "pygments_lexer": "ipython3",
   "version": "3.8.5"
  }
 },
 "nbformat": 4,
 "nbformat_minor": 4
}
