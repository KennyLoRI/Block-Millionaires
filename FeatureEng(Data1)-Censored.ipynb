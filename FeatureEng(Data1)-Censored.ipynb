{
 "cells": [
  {
   "cell_type": "markdown",
   "metadata": {},
   "source": [
    "# Data Analysis ETH Transactions"
   ]
  },
  {
   "cell_type": "markdown",
   "metadata": {},
   "source": [
    "# Data - Accredited Investors"
   ]
  },
  {
   "cell_type": "markdown",
   "metadata": {},
   "source": [
    "## get data from Google API"
   ]
  },
  {
   "cell_type": "code",
   "execution_count": 2,
   "metadata": {},
   "outputs": [
    {
     "name": "stdout",
     "output_type": "stream",
     "text": [
      "here I got the source data\n"
     ]
    }
   ],
   "source": [
    "print(\"here I got the source data\")"
   ]
  },
  {
   "cell_type": "markdown",
   "metadata": {},
   "source": [
    "## explore the data"
   ]
  },
  {
   "cell_type": "code",
   "execution_count": 2,
   "metadata": {},
   "outputs": [
    {
     "data": {
      "application/vnd.jupyter.widget-view+json": {
       "model_id": "41ded8f7baaf4401834a8f755f306551",
       "version_major": 2,
       "version_minor": 0
      },
      "text/plain": [
       "HBox(children=(HTML(value=''), FloatProgress(value=1.0, bar_style='info', layout=Layout(width='20px'), max=1.0…"
      ]
     },
     "metadata": {},
     "output_type": "display_data"
    },
    {
     "name": "stderr",
     "output_type": "stream",
     "text": [
      "/Users/Kenneth/opt/anaconda3/lib/python3.8/site-packages/tqdm/std.py:697: FutureWarning: The Panel class is removed from pandas. Accessing it from the top-level namespace will also be removed in the next version\n",
      "  from pandas import Panel\n"
     ]
    }
   ],
   "source": [
    "import pandas as pd\n",
    "import numpy as np\n",
    "\n",
    "from tqdm import notebook\n",
    "notebook.tqdm().pandas()"
   ]
  },
  {
   "cell_type": "code",
   "execution_count": 4,
   "metadata": {},
   "outputs": [],
   "source": [
    "df = pd.DataFrame(values)\n",
    "new_header = df.iloc[0] #grab the first row for the header\n",
    "df = df[1:] #take the data less the header row\n",
    "df.columns = new_header #set the header row as the df header"
   ]
  },
  {
   "cell_type": "markdown",
   "metadata": {},
   "source": [
    "## clean the data"
   ]
  },
  {
   "cell_type": "code",
   "execution_count": null,
   "metadata": {},
   "outputs": [],
   "source": [
    "#only keep observations with a wallet_address\n",
    "df = df.drop(columns=['number']) #drop empty column\n",
    "df_NA = df.replace('^\\s*$', np.nan, regex=True) #encode empty space as NA\n",
    "df = df_NA.dropna()\n",
    "df"
   ]
  },
  {
   "cell_type": "code",
   "execution_count": null,
   "metadata": {},
   "outputs": [],
   "source": [
    "#create a copy of the old df\n",
    "df2 = df\n",
    "df2"
   ]
  },
  {
   "cell_type": "code",
   "execution_count": 8,
   "metadata": {},
   "outputs": [
    {
     "data": {
      "application/vnd.jupyter.widget-view+json": {
       "model_id": "7c234be0855a47118cd9295ae9f57c20",
       "version_major": 2,
       "version_minor": 0
      },
      "text/plain": [
       "HBox(children=(HTML(value=''), FloatProgress(value=0.0, max=311.0), HTML(value='')))"
      ]
     },
     "metadata": {},
     "output_type": "display_data"
    },
    {
     "name": "stdout",
     "output_type": "stream",
     "text": [
      "\n"
     ]
    }
   ],
   "source": [
    "#get invalid addresses (not long enough)\n",
    "df2 = df2.astype({'wallet_address': 'string'})\n",
    "df2[\"address_length\"] = df2.wallet_address.progress_apply(len)\n",
    "df2[\"address_length\"]=df2[\"address_length\"].astype(\"category\")"
   ]
  },
  {
   "cell_type": "code",
   "execution_count": 9,
   "metadata": {},
   "outputs": [],
   "source": [
    "#delete invalid addresses\n",
    "df2 = df2[df2.address_length != 34]"
   ]
  },
  {
   "cell_type": "code",
   "execution_count": 11,
   "metadata": {},
   "outputs": [],
   "source": [
    "df2['sow_estimated_net_worth_value']= pd.to_numeric(df2['sow_estimated_net_worth_value'])"
   ]
  },
  {
   "cell_type": "markdown",
   "metadata": {},
   "source": [
    "## feature engineering\n"
   ]
  },
  {
   "cell_type": "markdown",
   "metadata": {},
   "source": [
    "### create a dummy for accredited investor"
   ]
  },
  {
   "cell_type": "code",
   "execution_count": 14,
   "metadata": {},
   "outputs": [],
   "source": [
    "for i in list(range(0, 304)):\n",
    "    if df2.iloc[i,0]>=1000000: df2.iloc[i,0]= 1\n",
    "    else: df2.iloc[i,0]= 0"
   ]
  },
  {
   "cell_type": "code",
   "execution_count": 15,
   "metadata": {},
   "outputs": [
    {
     "data": {
      "text/plain": [
       "1.0    163\n",
       "0.0    141\n",
       "Name: sow_estimated_net_worth_value, dtype: int64"
      ]
     },
     "execution_count": 15,
     "metadata": {},
     "output_type": "execute_result"
    }
   ],
   "source": [
    "#check how many accredited investors\n",
    "df2.iloc[:,0].value_counts()"
   ]
  },
  {
   "cell_type": "code",
   "execution_count": 17,
   "metadata": {},
   "outputs": [],
   "source": [
    "#create a copy of df2\n",
    "df3 = df2"
   ]
  },
  {
   "cell_type": "code",
   "execution_count": null,
   "metadata": {},
   "outputs": [],
   "source": [
    "#lowered the address string as it is done that way automatically when used in the etherscan 'API'\n",
    "df3.wallet_address = list(map(str.lower,df2.wallet_address))"
   ]
  },
  {
   "cell_type": "code",
   "execution_count": 3,
   "metadata": {},
   "outputs": [
    {
     "name": "stdout",
     "output_type": "stream",
     "text": [
      "censored: I filtered that one out\n"
     ]
    }
   ],
   "source": [
    "#there was an error due to a wrong wallet_address -> it was after \"0x58032c2fd021473eeee3c076bb83c3ee68a15064\"\n",
    "print(\"censored: I filtered that one out\")#take a look at these addresses to find the wrong one\n",
    "#the wrong address (i: 295) had a different format: bc1qnxsyskg99zx3zfl9mr82tumvnzwdlelryk5wvm instead of 0x58......"
   ]
  },
  {
   "cell_type": "code",
   "execution_count": 21,
   "metadata": {},
   "outputs": [
    {
     "name": "stderr",
     "output_type": "stream",
     "text": [
      "<ipython-input-21-3bf06a9bd693>:3: SettingWithCopyWarning: \n",
      "A value is trying to be set on a copy of a slice from a DataFrame.\n",
      "Try using .loc[row_indexer,col_indexer] = value instead\n",
      "\n",
      "See the caveats in the documentation: https://pandas.pydata.org/pandas-docs/stable/user_guide/indexing.html#returning-a-view-versus-a-copy\n",
      "  df3[\"address_beginning\"]= df3[\"wallet_address\"].str.slice(start, stop)\n",
      "<ipython-input-21-3bf06a9bd693>:5: SettingWithCopyWarning: \n",
      "A value is trying to be set on a copy of a slice from a DataFrame.\n",
      "Try using .loc[row_indexer,col_indexer] = value instead\n",
      "\n",
      "See the caveats in the documentation: https://pandas.pydata.org/pandas-docs/stable/user_guide/indexing.html#returning-a-view-versus-a-copy\n",
      "  df3[\"address_beginning\"] = df3[\"address_beginning\"].astype(\"category\")\n"
     ]
    }
   ],
   "source": [
    "#delecte all \"non-ETH\" addresses -> they don´t start with 0x\n",
    "start, stop = 0, 2\n",
    "df3[\"address_beginning\"]= df3[\"wallet_address\"].str.slice(start, stop)\n",
    "#use raw strings -> also handles backlashes as normal characters done by r\"string\" instead of \"string\"\n",
    "df3[\"address_beginning\"] = df3[\"address_beginning\"].astype(\"category\")"
   ]
  },
  {
   "cell_type": "code",
   "execution_count": 22,
   "metadata": {},
   "outputs": [
    {
     "data": {
      "text/plain": [
       "0x    303\n",
       "Name: address_beginning, dtype: int64"
      ]
     },
     "execution_count": 22,
     "metadata": {},
     "output_type": "execute_result"
    }
   ],
   "source": [
    "df3.address_beginning.value_counts()"
   ]
  },
  {
   "cell_type": "markdown",
   "metadata": {},
   "source": [
    "### get normal transaction data"
   ]
  },
  {
   "cell_type": "code",
   "execution_count": 23,
   "metadata": {},
   "outputs": [],
   "source": [
    "import requests\n",
    "from decimal import Decimal \n",
    "import certifi\n",
    "from collections import defaultdict\n",
    "from datetime import datetime"
   ]
  },
  {
   "cell_type": "code",
   "execution_count": 24,
   "metadata": {},
   "outputs": [],
   "source": [
    "def list_to_string(_list):\n",
    "        return \",\".join(_list) if isinstance(_list, list) else _list"
   ]
  },
  {
   "cell_type": "code",
   "execution_count": 25,
   "metadata": {},
   "outputs": [],
   "source": [
    "from time import sleep\n",
    "\n",
    "def api_call(addresses, numbers_transactions, api_key):    \n",
    "    # url placeholders\n",
    "    base_url = \"https://api.etherscan.io/api\"\n",
    "    url = f\"{base_url}?module=account&action=txlist&address={list_to_string(addresses)}&startblock=0&endblock=99999999&page=1&offset={str(numbers_transactions)}&sort=asc&apikey={api_key}\"\n",
    "\n",
    "    try:\n",
    "        response = requests.get(url, verify=certifi.where())\n",
    "\n",
    "        #print(response.status_code)\n",
    "        if response.status_code == 200:\n",
    "            address_content = response.json()\n",
    "            \n",
    "            if address_content.get(\"message\") == \"NOTOK\":\n",
    "                return {}\n",
    "\n",
    "            # print(1) \n",
    "            #1 == 1\n",
    "            #sleep(1) # TODO this is a hack to prevent 'DNS Erros / Connection refused Erros after a ton of request to the api                \n",
    "            return address_content.get(\"result\")#list of dictionaries\n",
    "        else:\n",
    "            return {}\n",
    "    except Exception as error:\n",
    "        return {}\n",
    "        \n"
   ]
  },
  {
   "cell_type": "code",
   "execution_count": 27,
   "metadata": {},
   "outputs": [],
   "source": [
    "#get the data per address (hier funktioniert es nur mit einer adresse)\n",
    "def get_transactions_by_address(address, numbers_transactions, api_key='QXYD8MMH1JIKKQRSAMUUNM16XEJTI5H7NQ'):\n",
    "    data = defaultdict(dict)\n",
    "\n",
    "    try: # this makes sure the programm is not crashing; even if the api call failes\n",
    "        result = api_call(address, numbers_transactions, api_key)\n",
    "\n",
    "    except Exception as error:\n",
    "        print(error)\n",
    "\n",
    "        data[0][\"hash\"] = \"\" #hash of the transaction\n",
    "        data[0][\"tx_from\"] = \"\" #sender address\n",
    "        data[0][\"tx_to\"] = \"\" #receiver\n",
    "        data[0][\"eth_value\"] = 0 #value in eth\n",
    "        data[0][\"out\"] = False # dummy - true if the address is sending the money\n",
    "        data[0][\"confirmed\"] = False # if the transaction is confirmed\n",
    "        data[0][\"timeStamp\"] = datetime.strptime(\"2000-08-01 12:30\", '%Y-%m-%d %H:%M')\n",
    "        data[0][\"nonce\"] = 0 #number of confirmed transactions originated from this address\n",
    "        data[0][\"gas\"] = 0 #gas Limit -> wie viel gas einheiten man max. zahlen würde\n",
    "        data[0][\"will_gas_Price\"] = 0 #How much the transaction originator is willing t. pay in Wei per gas unit\n",
    "        data[0][\"gasUsed\"] = 0 #How much gas was used at the end\n",
    "        data[0][\"transaction_cost\"] = 0\n",
    "        data[0][\"data_transaction\"] = \"\"\n",
    "        data[0][\"isError\"] = 0\n",
    "        data[0][\"cumulativeGasUsed\"] = 0\n",
    "        return data\n",
    "\n",
    "    \n",
    "    for n, transaction in enumerate(result):\n",
    "        hashs = transaction.get(\"hash\")\n",
    "        tx_from = transaction.get(\"from\")\n",
    "        tx_to = transaction.get(\"to\")\n",
    "        value = transaction.get(\"value\")\n",
    "        confirmations = transaction.get(\"confirmations\")\n",
    "        time = datetime.utcfromtimestamp(int(transaction.get(\"timeStamp\"))).strftime('%Y-%m-%d %H:%M')\n",
    "        nonce = transaction.get(\"nonce\")\n",
    "        gas = float(transaction.get(\"gas\"))\n",
    "        gasPrice = float(transaction.get(\"gasPrice\"))\n",
    "        gasUsed = transaction.get(\"gasUsed\")\n",
    "        datatx = transaction.get(\"input\")\n",
    "        error = transaction.get(\"isError\")\n",
    "        cumulativeGasUsed = transaction.get(\"cumulativeGasUsed\")\n",
    "        \n",
    "        if tx_from == address:\n",
    "            out = True\n",
    "        else: \n",
    "            out = False\n",
    "\n",
    "        eth_value = Decimal(value) / Decimal(\"1000000000000000000\") #float test sodass Zahl\n",
    "        \n",
    "        gasprice_eth = Decimal(gasPrice) / Decimal(\"1000000000000000000\")\n",
    "        transaction_cost = Decimal(gasprice_eth) * Decimal(gasUsed)\n",
    "        if int(confirmations) >=16:\n",
    "            confirmed = True\n",
    "        else:\n",
    "            confirmed = False\n",
    "        \n",
    "        data[n][\"hash\"] = hashs #hash of the transaction\n",
    "        data[n][\"tx_from\"] = tx_from #sender address\n",
    "        data[n][\"tx_to\"] = tx_to #receiver\n",
    "        data[n][\"eth_value\"] = eth_value #value in eth\n",
    "        data[n][\"out\"] = out # dummy - true if the address is sending the money\n",
    "        data[n][\"confirmed\"] = confirmed # if the transaction is confirmed\n",
    "        data[n][\"timeStamp\"] = datetime.strptime(time, '%Y-%m-%d %H:%M')\n",
    "        data[n][\"nonce\"] = nonce #number of confirmed transactions originated from this address\n",
    "        data[n][\"gas\"] = gas #gas Limit -> wie viel gas einheiten man max. zahlen würde\n",
    "        data[n][\"will_gas_Price\"] = gasprice_eth #How much the transaction originator is willing t. pay in Wei per gas unit\n",
    "        data[n][\"gasUsed\"] = gasUsed #How much gas was used at the end\n",
    "        data[n][\"transaction_cost\"] = transaction_cost\n",
    "        data[n][\"data_transaction\"] = datatx\n",
    "        data[n][\"isError\"] = error\n",
    "        data[n][\"cumulativeGasUsed\"] = cumulativeGasUsed\n",
    "    \n",
    "    return data    \n",
    "    #reminder: die Berechnungen müssen für´s Umrechnen in Float übertragen werden\n",
    "\n",
    "    "
   ]
  },
  {
   "cell_type": "code",
   "execution_count": 28,
   "metadata": {},
   "outputs": [
    {
     "data": {
      "application/vnd.jupyter.widget-view+json": {
       "model_id": "562176a95a764c15bd31956eaaac3b16",
       "version_major": 2,
       "version_minor": 0
      },
      "text/plain": [
       "HBox(children=(HTML(value=''), FloatProgress(value=0.0, max=303.0), HTML(value='')))"
      ]
     },
     "metadata": {},
     "output_type": "display_data"
    },
    {
     "name": "stdout",
     "output_type": "stream",
     "text": [
      "\n"
     ]
    }
   ],
   "source": [
    "#create a data frame that consists out of all the transactions of the whole addresses\n",
    "new_df = df3.wallet_address.progress_apply(get_transactions_by_address, numbers_transactions = 1500)"
   ]
  },
  {
   "cell_type": "code",
   "execution_count": 29,
   "metadata": {},
   "outputs": [],
   "source": [
    "def normalize_data(df):\n",
    "    temp_list = []\n",
    "    for key, value in df.items():\n",
    "        for k,v in value.items():\n",
    "            temp_list.append(v)\n",
    "\n",
    "    return pd.DataFrame(temp_list)"
   ]
  },
  {
   "cell_type": "code",
   "execution_count": null,
   "metadata": {},
   "outputs": [],
   "source": [
    "new_df"
   ]
  },
  {
   "cell_type": "code",
   "execution_count": null,
   "metadata": {},
   "outputs": [],
   "source": [
    "transaction_df = normalize_data(new_df)\n",
    "transaction_df # That´s the final edge list of the normal TX"
   ]
  },
  {
   "cell_type": "markdown",
   "metadata": {},
   "source": [
    "## Get address Balance"
   ]
  },
  {
   "cell_type": "code",
   "execution_count": 36,
   "metadata": {},
   "outputs": [],
   "source": [
    "def balance_api_call(addresses, api_key):\n",
    "    # url placeholders\n",
    "    \n",
    "    base_url = \"https://api.etherscan.io/api\"\n",
    "    url = f\"{base_url}?module=account&action=balance&address={list_to_string(addresses)}&tag=latest&apikey={api_key}\"\n",
    "\n",
    "    try:\n",
    "        response = requests.get(url, verify=certifi.where())\n",
    "\n",
    "        #print(response.status_code)\n",
    "        if response.status_code == 200:\n",
    "            address_content = response.json()\n",
    "            \n",
    "            if address_content.get(\"message\") == \"NOTOK\":\n",
    "                return {}\n",
    "\n",
    "            #sleep(1) # TODO this is a hack to prevent 'DNS Erros / Connection refused Erros after a ton of request to the api                \n",
    "            return address_content.get(\"result\")#list of dictionaries\n",
    "        else:\n",
    "            return {}\n",
    "    except Exception as error:\n",
    "        print(error)\n",
    "        return {}"
   ]
  },
  {
   "cell_type": "code",
   "execution_count": 37,
   "metadata": {},
   "outputs": [
    {
     "name": "stderr",
     "output_type": "stream",
     "text": [
      "/Users/Kenneth/opt/anaconda3/lib/python3.8/site-packages/pandas/core/indexing.py:1717: SettingWithCopyWarning: \n",
      "A value is trying to be set on a copy of a slice from a DataFrame.\n",
      "Try using .loc[row_indexer,col_indexer] = value instead\n",
      "\n",
      "See the caveats in the documentation: https://pandas.pydata.org/pandas-docs/stable/user_guide/indexing.html#returning-a-view-versus-a-copy\n",
      "  isetter(loc, v)\n"
     ]
    }
   ],
   "source": [
    "#Get balance for addresses (date: Monday, August 30, 8pm CEST)\n",
    "address_balance = []\n",
    "\n",
    "for index, row in df3.iterrows():\n",
    "    result = balance_api_call(row.wallet_address, \"a censored API key\")\n",
    "    address_balance.append({\"address_balance\":result})\n",
    "\n",
    "    \n",
    "address_balance = pd.DataFrame(address_balance)\n",
    "df3.loc[:,\"address_balance\"]= address_balance"
   ]
  },
  {
   "cell_type": "code",
   "execution_count": null,
   "metadata": {},
   "outputs": [],
   "source": [
    "df3"
   ]
  },
  {
   "cell_type": "markdown",
   "metadata": {},
   "source": [
    "## Get the neighboars of the fetched data\n"
   ]
  },
  {
   "cell_type": "code",
   "execution_count": 65,
   "metadata": {},
   "outputs": [],
   "source": [
    "def get_first_neighboars(lookup_address, transactions=transaction_df):\n",
    "    \"\"\"\n",
    "        param: transactions -> pd.Dataframe same shape as transaction_df\n",
    "    \"\"\"\n",
    "\n",
    "    lookup_person = lookup_address\n",
    "    # print(lookup_person)\n",
    "\n",
    "    outgoing_transactions =  transactions[(transactions.tx_from == lookup_person) & (transactions.out == True)]\n",
    "    outgoing_neighboars = outgoing_transactions.drop_duplicates(subset='tx_to')\n",
    "    # print(len(outgoing_neighboars))\n",
    "\n",
    "    incomming_transactions =  transactions[(transactions.tx_to == lookup_person) & (transactions.out == False)]\n",
    "    incomming_neighboars = incomming_transactions.drop_duplicates(subset='tx_from')\n",
    "    # print(len(incomming_neighboars))\n",
    "\n",
    "    list_ = outgoing_neighboars.tx_to.to_list()\n",
    "    list_ += incomming_neighboars.tx_from.to_list()\n",
    "\n",
    "\n",
    "    first_neighboars = pd.DataFrame({'neighboar': list_, 'id': [lookup_address for i in list_]})\n",
    "    first_neighboars = first_neighboars.drop_duplicates(subset='neighboar')\n",
    "\n",
    "    return first_neighboars\n",
    "\n"
   ]
  },
  {
   "cell_type": "code",
   "execution_count": 66,
   "metadata": {},
   "outputs": [],
   "source": [
    "def get_first_out_neighboars(lookup_address, transactions=transaction_df):\n",
    "    \"\"\"\n",
    "        param: transactions -> pd.Dataframe same shape as transaction_df\n",
    "    \"\"\"\n",
    "\n",
    "    lookup_person = lookup_address\n",
    "    # print(lookup_person)\n",
    "\n",
    "    outgoing_transactions =  transactions[(transactions.tx_from == lookup_person) & (transactions.out == True)]\n",
    "    outgoing_neighboars = outgoing_transactions.drop_duplicates(subset='tx_to')\n",
    "    # print(len(outgoing_neighboars))\n",
    "\n",
    "    list_ = outgoing_neighboars.tx_to.to_list()\n",
    "\n",
    "    first_neighboars_out = pd.DataFrame({'neighboar': list_, 'id': [lookup_address for i in list_]})\n",
    "    first_neighboars_out = first_neighboars_out.drop_duplicates(subset='neighboar')\n",
    "\n",
    "    return first_neighboars_out"
   ]
  },
  {
   "cell_type": "code",
   "execution_count": 67,
   "metadata": {},
   "outputs": [],
   "source": [
    "def get_first_neighboars_in(lookup_address, transactions=transaction_df):\n",
    "    \"\"\"\n",
    "        param: transactions -> pd.Dataframe same shape as transaction_df\n",
    "    \"\"\"\n",
    "\n",
    "    lookup_person = lookup_address\n",
    "    # print(lookup_person)\n",
    "\n",
    "    incomming_transactions =  transactions[(transactions.tx_to == lookup_person) & (transactions.out == False)]\n",
    "    incomming_neighboars = incomming_transactions.drop_duplicates(subset='tx_from')\n",
    "    # print(len(incomming_neighboars))\n",
    "\n",
    "    list_ = incomming_neighboars.tx_from.to_list()\n",
    "\n",
    "\n",
    "    first_neighboars_in = pd.DataFrame({'neighboar': list_, 'id': [lookup_address for i in list_]})\n",
    "    first_neighboars_in = first_neighboars_in.drop_duplicates(subset='neighboar')\n",
    "\n",
    "    return first_neighboars_in\n",
    "\n",
    "\n"
   ]
  },
  {
   "cell_type": "markdown",
   "metadata": {},
   "source": [
    "## Get first neighboar for every address in d3"
   ]
  },
  {
   "cell_type": "code",
   "execution_count": null,
   "metadata": {},
   "outputs": [],
   "source": [
    "neighboars = []\n",
    "\n",
    "for index, row in df3.iterrows():\n",
    "    \n",
    "    result = get_first_neighboars(row.wallet_address)\n",
    "    neighboars.append(result)\n",
    "    \n",
    "neighboars = pd.concat(neighboars)\n",
    "neighboars"
   ]
  },
  {
   "cell_type": "code",
   "execution_count": null,
   "metadata": {},
   "outputs": [],
   "source": [
    "neighboars_out = []\n",
    "\n",
    "for index, row in df3.iterrows():\n",
    "    \n",
    "    result = get_first_out_neighboars(row.wallet_address)\n",
    "    neighboars_out.append(result)\n",
    "    \n",
    "neighboars_out = pd.concat(neighboars_out)\n",
    "neighboars_out"
   ]
  },
  {
   "cell_type": "code",
   "execution_count": null,
   "metadata": {},
   "outputs": [],
   "source": [
    "neighboars_in = []\n",
    "\n",
    "for index, row in df3.iterrows():\n",
    "    \n",
    "    result = get_first_neighboars_in(row.wallet_address)\n",
    "    neighboars_in.append(result)\n",
    "    \n",
    "neighboars_in = pd.concat(neighboars_in)\n",
    "neighboars_in"
   ]
  },
  {
   "cell_type": "markdown",
   "metadata": {},
   "source": [
    "## Get transactions for first neighboars"
   ]
  },
  {
   "cell_type": "code",
   "execution_count": null,
   "metadata": {},
   "outputs": [],
   "source": [
    "neighboar_transactions = []\n",
    "\n",
    "placeholder = []\n",
    "for i in range(0, len(neighboars)):\n",
    "    id_ = neighboars.iloc[i].id\n",
    "    neighboar_ = neighboars.iloc[i].neighboar\n",
    "\n",
    "    transactions = get_transactions_by_address(neighboar_, numbers_transactions=1600)\n",
    "    transactions = pd.DataFrame(transactions).transpose()\n",
    "    transactions[\"id\"] = id_\n",
    "    transactions[\"neighboar\"] = neighboar_\n",
    "    placeholder.append(transactions)\n",
    "\n",
    "first_neighboars_transactions = pd.concat(placeholder)\n",
    "first_neighboars_transactions\n",
    "\n"
   ]
  },
  {
   "cell_type": "code",
   "execution_count": null,
   "metadata": {},
   "outputs": [],
   "source": [
    "first_neighboars_transactions.to_csv(\"first_neighb_transactions.csv\")"
   ]
  },
  {
   "cell_type": "code",
   "execution_count": null,
   "metadata": {
    "scrolled": true
   },
   "outputs": [],
   "source": [
    "EL_neighb_normal = pd.read_csv(\"first_neighb_transactions.csv\", header = 0)\n",
    "EL_neighb_normal #edge list of neighbor tx (normal)"
   ]
  },
  {
   "cell_type": "markdown",
   "metadata": {},
   "source": [
    "## Calculate TX of the normal edge lists in USD"
   ]
  },
  {
   "cell_type": "markdown",
   "metadata": {},
   "source": [
    "### calc USD for TX original adresses"
   ]
  },
  {
   "cell_type": "code",
   "execution_count": 7,
   "metadata": {},
   "outputs": [],
   "source": [
    "#read in the USD/ETH data\n",
    "ethUSD= pd.read_csv('ETH_1min.txt', header = None)\n",
    "ethUSD.columns = [\"timeStamp\", \"Open\", \"High\", \"Low\", \"Close\", \"Volume\"]\n",
    "ethUSD_s = ethUSD[[\"timeStamp\",  \"Close\"]].copy()"
   ]
  },
  {
   "cell_type": "code",
   "execution_count": 34,
   "metadata": {},
   "outputs": [],
   "source": [
    "#redefine the timeStamp column with a string\n",
    "transaction_df.timeStamp = transaction_df.timeStamp.astype(str)"
   ]
  },
  {
   "cell_type": "code",
   "execution_count": 35,
   "metadata": {},
   "outputs": [],
   "source": [
    "#merge the exchange and the transaction data with respect to the time Stamp #reminder -> some data older than 2016/03 is lost\n",
    "df_test = pd.merge(transaction_df, ethUSD_s, on='timeStamp')"
   ]
  },
  {
   "cell_type": "code",
   "execution_count": 36,
   "metadata": {},
   "outputs": [],
   "source": [
    "#calculate approx. value of transaction parameters in USD\n",
    "df_test[\"eth_valueUSD\"] = df_test.eth_value.astype(\"float\") * df_test.Close\n",
    "df_test[\"transaction_costUSD\"] = df_test.transaction_cost.astype(\"float\") * df_test.Close\n",
    "df_test[\"will_gas_PriceUSD\"] = df_test.will_gas_Price.astype(\"float\") * df_test.Close"
   ]
  },
  {
   "cell_type": "code",
   "execution_count": 98,
   "metadata": {},
   "outputs": [],
   "source": [
    "df_test.to_csv(\"df_origin_norm_tx.csv\")"
   ]
  },
  {
   "cell_type": "code",
   "execution_count": 3,
   "metadata": {},
   "outputs": [],
   "source": [
    "df_test= pd.read_csv(\"df_origin_norm_tx.csv\")"
   ]
  },
  {
   "cell_type": "markdown",
   "metadata": {},
   "source": [
    "### calc USD for 1st neighb normal TX "
   ]
  },
  {
   "cell_type": "code",
   "execution_count": 88,
   "metadata": {},
   "outputs": [],
   "source": [
    "EL_neighb_normal.timeStamp = EL_neighb_normal.timeStamp.astype(str)"
   ]
  },
  {
   "cell_type": "code",
   "execution_count": 90,
   "metadata": {},
   "outputs": [],
   "source": [
    "df_Neighb_normal_USD = pd.merge(EL_neighb_normal, ethUSD_s, on='timeStamp')\n",
    "df_Neighb_normal_USD[\"eth_valueUSD\"] = df_Neighb_normal_USD.eth_value.astype(\"float\") * df_Neighb_normal_USD.Close\n",
    "df_Neighb_normal_USD[\"transaction_costUSD\"] = df_Neighb_normal_USD.transaction_cost.astype(\"float\") * df_Neighb_normal_USD.Close\n",
    "df_Neighb_normal_USD[\"will_gas_PriceUSD\"] = df_Neighb_normal_USD.will_gas_Price.astype(\"float\") * df_Neighb_normal_USD.Close"
   ]
  },
  {
   "cell_type": "markdown",
   "metadata": {},
   "source": [
    "# Get ERC20 TX"
   ]
  },
  {
   "cell_type": "code",
   "execution_count": 48,
   "metadata": {},
   "outputs": [],
   "source": [
    "from time import sleep\n",
    "\n",
    "def erc20_api_call(addresses, numbers_transactions, api_key):\n",
    "    # url placeholders\n",
    "    \n",
    "    base_url = \"https://api.etherscan.io/api\"\n",
    "    url = f\"{base_url}?module=account&action=tokentx&address={list_to_string(addresses)}&startblock=0&endblock=99999999&page=1&offset={str(numbers_transactions)}&sort=asc&apikey={api_key}\"\n",
    "\n",
    "    try:\n",
    "        response = requests.get(url, verify=certifi.where())\n",
    "\n",
    "        #print(response.status_code)\n",
    "        if response.status_code == 200:\n",
    "            address_content = response.json()\n",
    "            \n",
    "            if address_content.get(\"message\") == \"NOTOK\":\n",
    "                return {}\n",
    "\n",
    "            #sleep(1) # TODO this is a hack to prevent 'DNS Erros / Connection refused Erros after a ton of request to the api                \n",
    "            return address_content.get(\"result\")#list of dictionaries\n",
    "        else:\n",
    "            return {}\n",
    "    except Exception as error:\n",
    "        print(error)\n",
    "        return {}\n",
    "    "
   ]
  },
  {
   "cell_type": "code",
   "execution_count": 50,
   "metadata": {},
   "outputs": [],
   "source": [
    "#create tx function for getting erc20 tokens \n",
    "def get_erc20_token_by_address(address, numbers_transactions, api_key='QXYD8MMH1JIKKQRSAMUUNM16XEJTI5H7NQ'):\n",
    "    data = defaultdict(dict)\n",
    "\n",
    "    try: # this makes sure the programm is not crashing; even if the api call failes\n",
    "        result = erc20_api_call(address, numbers_transactions, api_key)\n",
    "\n",
    "    except Exception as error:\n",
    "        print(error)\n",
    "\n",
    "        data[0][\"hash\"] = \"\" #hash of the transaction\n",
    "        data[0][\"tx_from\"] = \"\" #sender address\n",
    "        data[0][\"tx_to\"] = \"\" #receiver\n",
    "        data[0][\"eth_value\"] = 0 #value in eth\n",
    "        data[0][\"out\"] = False # dummy - true if the address is sending the money\n",
    "        data[0][\"confirmed\"] = False # if the transaction is confirmed\n",
    "        data[0][\"timeStamp\"] = datetime.strptime(\"2000-08-01 12:30\", '%Y-%m-%d %H:%M')\n",
    "        data[0][\"nonce\"] = 0 #number of confirmed transactions originated from this address\n",
    "        data[0][\"gas\"] = 0 #gas Limit -> wie viel gas einheiten man max. zahlen würde\n",
    "        data[0][\"will_gas_Price\"] = 0 #How much the transaction originator is willing t. pay in Wei per gas unit\n",
    "        data[0][\"gasUsed\"] = 0 #How much gas was used at the end\n",
    "        data[0][\"transaction_cost\"] = 0\n",
    "        data[0][\"data_transaction\"] = \"\"\n",
    "        data[0][\"isError\"] = 0\n",
    "        data[0][\"cumulativeGasUsed\"] = 0\n",
    "        data[0][\"tokenName\"] = \"\"\n",
    "        data[0][\"tokenSymbol\"] = \"\"\n",
    "        data[0][\"tokenDecimal\"] = 0\n",
    "        return data\n",
    "\n",
    "    \n",
    "    for n, transaction in enumerate(result):\n",
    "        hashs = transaction.get(\"hash\")\n",
    "        tx_from = transaction.get(\"from\")\n",
    "        tx_to = transaction.get(\"to\")\n",
    "        value = transaction.get(\"value\")\n",
    "        confirmations = transaction.get(\"confirmations\")\n",
    "        time = datetime.utcfromtimestamp(int(transaction.get(\"timeStamp\"))).strftime('%Y-%m-%d %H:%M')\n",
    "        nonce = transaction.get(\"nonce\")\n",
    "        gas = float(transaction.get(\"gas\"))\n",
    "        gasPrice = float(transaction.get(\"gasPrice\"))\n",
    "        gasUsed = transaction.get(\"gasUsed\")\n",
    "        datatx = transaction.get(\"input\")\n",
    "        error = transaction.get(\"isError\")\n",
    "        cumulativeGasUsed = transaction.get(\"cumulativeGasUsed\")\n",
    "        tokenName = transaction.get(\"tokenName\")\n",
    "        tokenSymbol = transaction.get(\"tokenSymbol\")\n",
    "        tokenDecimal = transaction.get(\"tokenDecimal\")\n",
    "        \n",
    "        if tx_from == address:\n",
    "            out = True\n",
    "        else: \n",
    "            out = False\n",
    "\n",
    "        eth_value = Decimal(value) / Decimal(\"1000000000000000000\") #float test sodass Zahl\n",
    "        \n",
    "        gasprice_eth = Decimal(gasPrice) / Decimal(\"1000000000000000000\")\n",
    "        transaction_cost = Decimal(gasprice_eth) * Decimal(gasUsed)\n",
    "        if int(confirmations) >=16:\n",
    "            confirmed = True\n",
    "        else:\n",
    "            confirmed = False\n",
    "        \n",
    "        data[n][\"hash\"] = hashs #hash of the transaction\n",
    "        data[n][\"tx_from\"] = tx_from #sender address\n",
    "        data[n][\"tx_to\"] = tx_to #receiver\n",
    "        data[n][\"eth_value\"] = eth_value #value in eth\n",
    "        data[n][\"out\"] = out # dummy - true if the address is sending the money\n",
    "        data[n][\"confirmed\"] = confirmed # if the transaction is confirmed\n",
    "        data[n][\"timeStamp\"] = datetime.strptime(time, '%Y-%m-%d %H:%M')\n",
    "        data[n][\"nonce\"] = nonce #number of confirmed transactions originated from this address\n",
    "        data[n][\"gas\"] = gas #gas Limit -> wie viel gas einheiten man max. zahlen würde\n",
    "        data[n][\"will_gas_Price\"] = gasprice_eth #How much the transaction originator is willing t. pay in Wei per gas unit\n",
    "        data[n][\"gasUsed\"] = gasUsed #How much gas was used at the end\n",
    "        data[n][\"transaction_cost\"] = transaction_cost\n",
    "        data[n][\"data_transaction\"] = datatx\n",
    "        data[n][\"isError\"] = error\n",
    "        data[n][\"cumulativeGasUsed\"] = cumulativeGasUsed\n",
    "        data[n][\"tokenName\"] = tokenName\n",
    "        data[n][\"tokenSymbol\"] = tokenSymbol\n",
    "        data[n][\"tokenDecimal\"] = tokenDecimal\n",
    "    \n",
    "    return data    \n",
    "    #reminder: die Berechnungen müssen für´s Umrechnen in Float übertragen werden"
   ]
  },
  {
   "cell_type": "code",
   "execution_count": 51,
   "metadata": {},
   "outputs": [
    {
     "data": {
      "application/vnd.jupyter.widget-view+json": {
       "model_id": "7c473f6c208241cc9345c19571014129",
       "version_major": 2,
       "version_minor": 0
      },
      "text/plain": [
       "HBox(children=(HTML(value=''), FloatProgress(value=0.0, max=303.0), HTML(value='')))"
      ]
     },
     "metadata": {},
     "output_type": "display_data"
    },
    {
     "name": "stdout",
     "output_type": "stream",
     "text": [
      "\n"
     ]
    }
   ],
   "source": [
    "erc20_df = df3.wallet_address.progress_apply(get_erc20_token_by_address, numbers_transactions = 1500)"
   ]
  },
  {
   "cell_type": "code",
   "execution_count": 52,
   "metadata": {},
   "outputs": [],
   "source": [
    "erc20_df = normalize_data(erc20_df) #edge list of erc20 transaction of the given addreses"
   ]
  },
  {
   "cell_type": "code",
   "execution_count": 99,
   "metadata": {},
   "outputs": [],
   "source": [
    "erc20_df.to_csv(\"erc20_normal_tx.csv\")"
   ]
  },
  {
   "cell_type": "code",
   "execution_count": null,
   "metadata": {},
   "outputs": [],
   "source": [
    "import pandas as pd\n",
    "erc20_df = pd.read_csv(\"erc20_normal_tx.csv\")"
   ]
  },
  {
   "cell_type": "markdown",
   "metadata": {},
   "source": [
    "## Get first neighboar of ERC20 Transaktions"
   ]
  },
  {
   "cell_type": "code",
   "execution_count": 53,
   "metadata": {},
   "outputs": [],
   "source": [
    "def get_first_ercneighboars(lookup_address, transactions=erc20_df):\n",
    "    \"\"\"\n",
    "        #param: transactions -> pd.Dataframe same shape as transaction_df\n",
    "    \"\"\"\n",
    "\n",
    "    lookup_person = lookup_address\n",
    "    # print(lookup_person)\n",
    "\n",
    "    outgoing_transactions =  transactions[(transactions.tx_from == lookup_person) & (transactions.out == True)]\n",
    "    outgoing_neighboars = outgoing_transactions.drop_duplicates(subset='tx_to')\n",
    "    # print(len(outgoing_neighboars))\n",
    "\n",
    "    incomming_transactions =  transactions[(transactions.tx_to == lookup_person) & (transactions.out == False)]\n",
    "    incomming_neighboars = incomming_transactions.drop_duplicates(subset='tx_from')\n",
    "    # print(len(incomming_neighboars))\n",
    "\n",
    "    list_ = outgoing_neighboars.tx_to.to_list()\n",
    "    list_ += incomming_neighboars.tx_from.to_list()\n",
    "\n",
    "\n",
    "    first_neighboars = pd.DataFrame({'neighboar': list_, 'id': [lookup_address for i in list_]})\n",
    "    first_neighboars = first_neighboars.drop_duplicates(subset='neighboar')\n",
    "\n",
    "    return first_neighboars\n",
    "\n",
    "\n"
   ]
  },
  {
   "cell_type": "code",
   "execution_count": null,
   "metadata": {},
   "outputs": [],
   "source": [
    "erc20_neighboars = []\n",
    "\n",
    "for index, row in df3.iterrows():\n",
    "    \n",
    "    result = get_first_ercneighboars(row.wallet_address, transactions=erc20_df)\n",
    "    erc20_neighboars.append(result)\n",
    "    \n",
    "erc20_neighboars = pd.concat(erc20_neighboars)\n",
    "erc20_neighboars"
   ]
  },
  {
   "cell_type": "markdown",
   "metadata": {},
   "source": [
    "## get tx of first neighb of ERC20 tx"
   ]
  },
  {
   "cell_type": "code",
   "execution_count": null,
   "metadata": {},
   "outputs": [],
   "source": [
    "erc_neighboar_transactions = []\n",
    "\n",
    "erc_placeholder = []\n",
    "for i in range(0, len(erc20_neighboars)):\n",
    "    id_ = erc20_neighboars.iloc[i].id\n",
    "    erc_neighboar_ = erc20_neighboars.iloc[i].neighboar\n",
    "\n",
    "    transactions = get_erc20_token_by_address(erc_neighboar_, numbers_transactions=1600)\n",
    "    transactions = pd.DataFrame(transactions).transpose()\n",
    "    transactions[\"id\"] = id_\n",
    "    transactions[\"neighboar\"] = erc_neighboar_\n",
    "    erc_placeholder.append(transactions)\n",
    "\n",
    "erc_first_neighboars_transactions = pd.concat(erc_placeholder)\n",
    "erc_first_neighboars_transactions.iloc[] #edgelist of neighb ERC20 tx\n",
    "\n",
    "\n"
   ]
  },
  {
   "cell_type": "code",
   "execution_count": null,
   "metadata": {},
   "outputs": [],
   "source": [
    "erc_first_neighboars_transactions.to_csv(\"erc_first_neighboars_transactions.csv\")\n",
    "\n"
   ]
  },
  {
   "cell_type": "code",
   "execution_count": 184,
   "metadata": {},
   "outputs": [],
   "source": [
    "EL_ERCneighb_normal = pd.read_csv(\"erc_first_neighboars_transactions.csv\", header = 0)\n",
    "EL_ERCneighb_normal.head()\n",
    "random.seed(30)\n",
    "EL_ERCneib_small = EL_ERCneighb_normal.sample(frac = 0.1) #edge list of neighbor tx (ERC20)"
   ]
  },
  {
   "cell_type": "markdown",
   "metadata": {},
   "source": [
    "## calc USD value of ERC TX and ERC TX of first neighb"
   ]
  },
  {
   "cell_type": "markdown",
   "metadata": {},
   "source": [
    "### USD value ERC TX original"
   ]
  },
  {
   "cell_type": "code",
   "execution_count": 8,
   "metadata": {},
   "outputs": [],
   "source": [
    "erc20_df.timeStamp = erc20_df.timeStamp.astype(str)\n",
    "df_origin_erc20_USD = pd.merge(erc20_df, ethUSD_s, on='timeStamp')\n",
    "df_origin_erc20_USD[\"eth_valueUSD\"] = df_origin_erc20_USD.eth_value.astype(\"float\") * df_origin_erc20_USD.Close\n",
    "df_origin_erc20_USD[\"transaction_costUSD\"] = df_origin_erc20_USD.transaction_cost.astype(\"float\") * df_origin_erc20_USD.Close\n",
    "df_origin_erc20_USD[\"will_gas_PriceUSD\"] = df_origin_erc20_USD.will_gas_Price.astype(\"float\") * df_origin_erc20_USD.Close"
   ]
  },
  {
   "cell_type": "markdown",
   "metadata": {},
   "source": [
    "### USD value ERC TX neighb"
   ]
  },
  {
   "cell_type": "code",
   "execution_count": 97,
   "metadata": {},
   "outputs": [],
   "source": [
    "EL_ERCneighb_normal.timeStamp = EL_ERCneighb_normal.timeStamp.astype(str)\n",
    "EL_ERCneighb_USD = pd.merge(EL_ERCneighb_normal, ethUSD_s, on='timeStamp')\n",
    "EL_ERCneighb_USD[\"eth_valueUSD\"] = EL_ERCneighb_USD.eth_value.astype(\"float\") * EL_ERCneighb_USD.Close\n",
    "EL_ERCneighb_USD[\"transaction_costUSD\"] = EL_ERCneighb_USD.transaction_cost.astype(\"float\") * EL_ERCneighb_USD.Close\n",
    "EL_ERCneighb_USD[\"will_gas_PriceUSD\"] = EL_ERCneighb_USD.will_gas_Price.astype(\"float\") * EL_ERCneighb_USD.Close"
   ]
  },
  {
   "cell_type": "code",
   "execution_count": 185,
   "metadata": {},
   "outputs": [],
   "source": [
    "import random\n",
    "random.seed(30)\n",
    "EL_ERCneibUSD_small = EL_ERCneighb_USD.sample(frac = 0.1)"
   ]
  },
  {
   "cell_type": "markdown",
   "metadata": {},
   "source": [
    "# Start Variable creation \n",
    "\n"
   ]
  },
  {
   "cell_type": "markdown",
   "metadata": {},
   "source": [
    "## Variables regarding the \"normal transactions\" of the original addresses"
   ]
  },
  {
   "cell_type": "code",
   "execution_count": 37,
   "metadata": {},
   "outputs": [
    {
     "name": "stderr",
     "output_type": "stream",
     "text": [
      "/Users/Kenneth/opt/anaconda3/lib/python3.8/site-packages/pandas/core/indexing.py:1596: SettingWithCopyWarning: \n",
      "A value is trying to be set on a copy of a slice from a DataFrame.\n",
      "Try using .loc[row_indexer,col_indexer] = value instead\n",
      "\n",
      "See the caveats in the documentation: https://pandas.pydata.org/pandas-docs/stable/user_guide/indexing.html#returning-a-view-versus-a-copy\n",
      "  self.obj[key] = _infer_fill_value(value)\n",
      "/Users/Kenneth/opt/anaconda3/lib/python3.8/site-packages/pandas/core/indexing.py:1745: SettingWithCopyWarning: \n",
      "A value is trying to be set on a copy of a slice from a DataFrame.\n",
      "Try using .loc[row_indexer,col_indexer] = value instead\n",
      "\n",
      "See the caveats in the documentation: https://pandas.pydata.org/pandas-docs/stable/user_guide/indexing.html#returning-a-view-versus-a-copy\n",
      "  isetter(ilocs[0], value)\n"
     ]
    }
   ],
   "source": [
    "#Number ingoing transactions\n",
    "length2=[]\n",
    "for address in df3.wallet_address:\n",
    "    length2.append(len(df_test[df_test[\"tx_to\"] == str(address)]))\n",
    "df3.loc[:,\"num_in_trans\"]= length2"
   ]
  },
  {
   "cell_type": "code",
   "execution_count": 102,
   "metadata": {},
   "outputs": [],
   "source": [
    "#Number ingoing transactions\n",
    "length2=[]\n",
    "for address in df3.wallet_address:\n",
    "    length2.append(len(df_test[df_test[\"tx_to\"] == str(address)]))\n",
    "df3.loc[:,\"num_in_trans\"]= length2"
   ]
  },
  {
   "cell_type": "code",
   "execution_count": 38,
   "metadata": {},
   "outputs": [],
   "source": [
    "#Number outgoing transactions\n",
    "length1=[]\n",
    "for address in df3.wallet_address:\n",
    "    length1.append(len(df_test[df_test[\"tx_from\"] == str(address)]))\n",
    "df3.loc[:,\"num_out_trans\"]= length1"
   ]
  },
  {
   "cell_type": "code",
   "execution_count": 104,
   "metadata": {},
   "outputs": [
    {
     "name": "stderr",
     "output_type": "stream",
     "text": [
      "/Users/Kenneth/opt/anaconda3/lib/python3.8/site-packages/pandas/core/indexing.py:1736: SettingWithCopyWarning: \n",
      "A value is trying to be set on a copy of a slice from a DataFrame.\n",
      "Try using .loc[row_indexer,col_indexer] = value instead\n",
      "\n",
      "See the caveats in the documentation: https://pandas.pydata.org/pandas-docs/stable/user_guide/indexing.html#returning-a-view-versus-a-copy\n",
      "  isetter(loc, value[:, i].tolist())\n"
     ]
    }
   ],
   "source": [
    "#average amount outgoing transactions\n",
    "avg_trans_out=[]\n",
    "for address in df3.wallet_address:\n",
    "    avg_trans_out.append(df_test.loc[lambda df_test: df_test['tx_from'] == str(address), [\"eth_valueUSD\"]].mean())\n",
    "df3.loc[:,\"avg_trans_out\"]= avg_trans_out"
   ]
  },
  {
   "cell_type": "code",
   "execution_count": 40,
   "metadata": {},
   "outputs": [],
   "source": [
    "df3.to_csv(\"corrected_numoutsins.csv\") #this is whee the correction happened"
   ]
  },
  {
   "cell_type": "code",
   "execution_count": 105,
   "metadata": {},
   "outputs": [],
   "source": [
    "#average amount ingoing transactions\n",
    "avg_trans_in=[]\n",
    "for address in df3.wallet_address:\n",
    "    avg_trans_in.append(df_test.loc[lambda df_test: df_test['tx_to'] == str(address), [\"eth_valueUSD\"]].mean())\n",
    "df3.loc[:,\"avg_trans_in\"]= avg_trans_in"
   ]
  },
  {
   "cell_type": "code",
   "execution_count": 106,
   "metadata": {},
   "outputs": [],
   "source": [
    "#sum amount ingoing transactions\n",
    "sum_trans_in=[]\n",
    "for address in df3.wallet_address:\n",
    "    sum_trans_in.append(df_test.loc[lambda df_test: df_test['tx_to'] == str(address), [\"eth_valueUSD\"]].sum())\n",
    "df3.loc[:,\"sum_trans_in\"]= sum_trans_in"
   ]
  },
  {
   "cell_type": "code",
   "execution_count": 107,
   "metadata": {},
   "outputs": [],
   "source": [
    "#sum amount outgoing transactions\n",
    "sum_trans_out=[]\n",
    "for address in df3.wallet_address:\n",
    "    sum_trans_out.append(df_test.loc[lambda df_test: df_test['tx_to'] == str(address), [\"eth_valueUSD\"]].sum())\n",
    "df3.loc[:,\"sum_trans_out\"]= sum_trans_out"
   ]
  },
  {
   "cell_type": "code",
   "execution_count": 108,
   "metadata": {},
   "outputs": [],
   "source": [
    "#max amount outgoing transaction\n",
    "max_trans_out=[]\n",
    "for address in df3.wallet_address:\n",
    "    max_trans_out.append(df_test.loc[lambda df_test: df_test['tx_from'] == str(address), [\"eth_valueUSD\"]].max())\n",
    "df3.loc[:,\"max_trans_out\"]= max_trans_out"
   ]
  },
  {
   "cell_type": "code",
   "execution_count": 109,
   "metadata": {},
   "outputs": [],
   "source": [
    "#max amount ingoing transaction\n",
    "max_trans_in=[]\n",
    "for address in df3.wallet_address:\n",
    "    max_trans_in.append(df_test.loc[lambda df_test: df_test['tx_to'] == str(address), [\"eth_valueUSD\"]].max())\n",
    "df3.loc[:,\"max_trans_in\"]= max_trans_in"
   ]
  },
  {
   "cell_type": "code",
   "execution_count": 110,
   "metadata": {},
   "outputs": [],
   "source": [
    "#standard deviation amount ingoing transaction\n",
    "std_trans_in=[]\n",
    "for address in df3.wallet_address:\n",
    "    std_trans_in.append(df_test.loc[lambda df_test: df_test['tx_to'] == str(address), [\"eth_valueUSD\"]].std())\n",
    "df3.loc[:,\"std_trans_in\"]= std_trans_in"
   ]
  },
  {
   "cell_type": "code",
   "execution_count": 111,
   "metadata": {},
   "outputs": [],
   "source": [
    "#standard deviation amount out going transaction\n",
    "std_trans_out=[]\n",
    "for address in df3.wallet_address:\n",
    "    std_trans_out.append(df_test.loc[lambda df_test: df_test['tx_from'] == str(address), [\"eth_valueUSD\"]].std())\n",
    "df3.loc[:,\"std_trans_out\"]= std_trans_out"
   ]
  },
  {
   "cell_type": "code",
   "execution_count": 112,
   "metadata": {},
   "outputs": [
    {
     "name": "stderr",
     "output_type": "stream",
     "text": [
      "/Users/Kenneth/opt/anaconda3/lib/python3.8/site-packages/pandas/core/indexing.py:1596: SettingWithCopyWarning: \n",
      "A value is trying to be set on a copy of a slice from a DataFrame.\n",
      "Try using .loc[row_indexer,col_indexer] = value instead\n",
      "\n",
      "See the caveats in the documentation: https://pandas.pydata.org/pandas-docs/stable/user_guide/indexing.html#returning-a-view-versus-a-copy\n",
      "  self.obj[key] = _infer_fill_value(value)\n",
      "/Users/Kenneth/opt/anaconda3/lib/python3.8/site-packages/pandas/core/indexing.py:1736: SettingWithCopyWarning: \n",
      "A value is trying to be set on a copy of a slice from a DataFrame.\n",
      "Try using .loc[row_indexer,col_indexer] = value instead\n",
      "\n",
      "See the caveats in the documentation: https://pandas.pydata.org/pandas-docs/stable/user_guide/indexing.html#returning-a-view-versus-a-copy\n",
      "  isetter(loc, value[:, i].tolist())\n"
     ]
    }
   ],
   "source": [
    "#min amount outgoing transaction\n",
    "min_trans_out=[]\n",
    "for address in df3.wallet_address:\n",
    "    min_trans_out.append(df_test.loc[(df_test['tx_from'] == address) & (df_test[\"eth_valueUSD\"]!=0),[\"eth_valueUSD\"]].min())\n",
    "df3.loc[:,\"min_trans_out\"]= min_trans_out"
   ]
  },
  {
   "cell_type": "code",
   "execution_count": 113,
   "metadata": {},
   "outputs": [
    {
     "name": "stderr",
     "output_type": "stream",
     "text": [
      "/Users/Kenneth/opt/anaconda3/lib/python3.8/site-packages/pandas/core/indexing.py:1596: SettingWithCopyWarning: \n",
      "A value is trying to be set on a copy of a slice from a DataFrame.\n",
      "Try using .loc[row_indexer,col_indexer] = value instead\n",
      "\n",
      "See the caveats in the documentation: https://pandas.pydata.org/pandas-docs/stable/user_guide/indexing.html#returning-a-view-versus-a-copy\n",
      "  self.obj[key] = _infer_fill_value(value)\n",
      "/Users/Kenneth/opt/anaconda3/lib/python3.8/site-packages/pandas/core/indexing.py:1736: SettingWithCopyWarning: \n",
      "A value is trying to be set on a copy of a slice from a DataFrame.\n",
      "Try using .loc[row_indexer,col_indexer] = value instead\n",
      "\n",
      "See the caveats in the documentation: https://pandas.pydata.org/pandas-docs/stable/user_guide/indexing.html#returning-a-view-versus-a-copy\n",
      "  isetter(loc, value[:, i].tolist())\n"
     ]
    }
   ],
   "source": [
    "#min amount ingoing transaction\n",
    "min_trans_in=[]\n",
    "for address in df3.wallet_address:\n",
    "    min_trans_in.append(df_test.loc[(df_test['tx_to'] == address) & (df_test[\"eth_valueUSD\"]!=0),[\"eth_valueUSD\"]].min())\n",
    "df3.loc[:,\"min_trans_in\"]= min_trans_in"
   ]
  },
  {
   "cell_type": "code",
   "execution_count": 114,
   "metadata": {},
   "outputs": [],
   "source": [
    "#number of unique outgoing transaction partners \n",
    "unique_tpartn_out=[]\n",
    "for address in df3.wallet_address:\n",
    "    unique_tpartn_out.append(df_test.loc[(df_test['tx_from'] == address), [\"tx_to\"]].nunique())\n",
    "df3.loc[:,\"unique_tpartn_out\"]= unique_tpartn_out\n"
   ]
  },
  {
   "cell_type": "code",
   "execution_count": 115,
   "metadata": {},
   "outputs": [],
   "source": [
    "#number of unique ingoing transaction partners \n",
    "unique_tpartn_in=[]\n",
    "for address in df3.wallet_address:\n",
    "    unique_tpartn_in.append(df_test.loc[(df_test['tx_to'] == address), [\"tx_from\"]].nunique())\n",
    "df3.loc[:,\"unique_tpartn_in\"]= unique_tpartn_in"
   ]
  },
  {
   "cell_type": "code",
   "execution_count": 116,
   "metadata": {},
   "outputs": [],
   "source": [
    "#average outg. transaction costs\n",
    "avg_transcost_out=[]\n",
    "for address in df3.wallet_address:\n",
    "    avg_transcost_out.append(df_test.loc[lambda df_test: df_test['tx_from'] == str(address), [\"transaction_costUSD\"]].mean())\n",
    "df3.loc[:,\"avg_transcost_out\"]= avg_transcost_out "
   ]
  },
  {
   "cell_type": "code",
   "execution_count": 117,
   "metadata": {},
   "outputs": [],
   "source": [
    "#average inc. transaction costs\n",
    "avg_transcost_in=[]\n",
    "for address in df3.wallet_address:\n",
    "    avg_transcost_in.append(df_test.loc[lambda df_test: df_test['tx_to'] == str(address), [\"transaction_costUSD\"]].mean())\n",
    "df3.loc[:,\"avg_transcost_in\"]= avg_transcost_in"
   ]
  },
  {
   "cell_type": "code",
   "execution_count": 118,
   "metadata": {},
   "outputs": [],
   "source": [
    "#max transaction costs outgoing\n",
    "max_transcost_out=[]\n",
    "for address in df3.wallet_address:\n",
    "    max_transcost_out.append(df_test.loc[lambda df_test: df_test['tx_from'] == str(address), [\"transaction_costUSD\"]].max())\n",
    "df3.loc[:,\"max_transcost_out\"]= max_transcost_out"
   ]
  },
  {
   "cell_type": "code",
   "execution_count": 119,
   "metadata": {},
   "outputs": [],
   "source": [
    "#max transaction costs ingoing\n",
    "max_transcost_in=[]\n",
    "for address in df3.wallet_address:\n",
    "    max_transcost_in.append(df_test.loc[lambda df_test: df_test['tx_to'] == str(address), [\"transaction_costUSD\"]].max())\n",
    "df3.loc[:,\"max_transcost_in\"]= max_transcost_in"
   ]
  },
  {
   "cell_type": "code",
   "execution_count": 120,
   "metadata": {},
   "outputs": [],
   "source": [
    "#standard deviation transaction costs  out going \n",
    "std_transcost_out=[]\n",
    "for address in df3.wallet_address:\n",
    "    std_transcost_out.append(df_test.loc[lambda df_test: df_test['tx_from'] == str(address), [\"transaction_costUSD\"]].std())\n",
    "df3.loc[:,\"std_transcost_out\"]= std_transcost_out"
   ]
  },
  {
   "cell_type": "code",
   "execution_count": 121,
   "metadata": {},
   "outputs": [],
   "source": [
    "#standard deviation transaction costs  ingoing \n",
    "std_transcost_in=[]\n",
    "for address in df3.wallet_address:\n",
    "    std_transcost_in.append(df_test.loc[lambda df_test: df_test['tx_to'] == str(address), [\"transaction_costUSD\"]].std())\n",
    "df3.loc[:,\"std_transcost_in\"]= std_transcost_in"
   ]
  },
  {
   "cell_type": "code",
   "execution_count": 122,
   "metadata": {},
   "outputs": [
    {
     "name": "stderr",
     "output_type": "stream",
     "text": [
      "<ipython-input-122-62aaec5a58bd>:9: DeprecationWarning: The default dtype for empty Series will be 'object' instead of 'float64' in a future version. Specify a dtype explicitly to silence this warning.\n",
      "  timedelta_trans_out.append(pd.Series(time_list).mean())\n",
      "/Users/Kenneth/opt/anaconda3/lib/python3.8/site-packages/pandas/core/indexing.py:1745: SettingWithCopyWarning: \n",
      "A value is trying to be set on a copy of a slice from a DataFrame.\n",
      "Try using .loc[row_indexer,col_indexer] = value instead\n",
      "\n",
      "See the caveats in the documentation: https://pandas.pydata.org/pandas-docs/stable/user_guide/indexing.html#returning-a-view-versus-a-copy\n",
      "  isetter(ilocs[0], value)\n"
     ]
    }
   ],
   "source": [
    "#avg. amount of hours between outg transactions\n",
    "timedelta_trans_out=[]\n",
    "for address in df3.wallet_address:\n",
    "    t = pd.to_datetime(df_test.loc[lambda df_test: df_test['tx_from'] == address, [\"timeStamp\"]].timeStamp)\n",
    "    time_diff = [j-i for i, j in zip(t[:-1], t[1:])]\n",
    "    time_list = []\n",
    "    for delta in time_diff:\n",
    "        time_list.append(delta / pd.Timedelta('1 hour'))\n",
    "    timedelta_trans_out.append(pd.Series(time_list).mean())\n",
    "    \n",
    "df3.loc[:,\"timedelta_trans_out\"]= timedelta_trans_out\n"
   ]
  },
  {
   "cell_type": "code",
   "execution_count": 123,
   "metadata": {},
   "outputs": [
    {
     "name": "stderr",
     "output_type": "stream",
     "text": [
      "<ipython-input-123-d986470869da>:9: DeprecationWarning: The default dtype for empty Series will be 'object' instead of 'float64' in a future version. Specify a dtype explicitly to silence this warning.\n",
      "  timedelta_trans_in.append(pd.Series(time_list).mean())\n"
     ]
    }
   ],
   "source": [
    "#avg. amount of hours between in transactions\n",
    "timedelta_trans_in=[]\n",
    "for address in df3.wallet_address:\n",
    "    t = pd.to_datetime(df_test.loc[lambda df_test: df_test['tx_to'] == address, [\"timeStamp\"]].timeStamp)\n",
    "    time_diff = [j-i for i, j in zip(t[:-1], t[1:])]\n",
    "    time_list = []\n",
    "    for delta in time_diff:\n",
    "        time_list.append(delta / pd.Timedelta('1 hour'))\n",
    "    timedelta_trans_in.append(pd.Series(time_list).mean())\n",
    "    \n",
    "df3.loc[:,\"timedelta_trans_in\"]= timedelta_trans_in"
   ]
  },
  {
   "cell_type": "code",
   "execution_count": 124,
   "metadata": {},
   "outputs": [
    {
     "name": "stderr",
     "output_type": "stream",
     "text": [
      "<ipython-input-124-2cfee261268d>:9: DeprecationWarning: The default dtype for empty Series will be 'object' instead of 'float64' in a future version. Specify a dtype explicitly to silence this warning.\n",
      "  duration_out.append(pd.Series(time_list).mean())\n"
     ]
    }
   ],
   "source": [
    "#amount of hours between the first and last outgoing transaction\n",
    "duration_out=[]\n",
    "for address in df3.wallet_address:\n",
    "    t = pd.to_datetime(df_test.loc[lambda df_test: df_test['tx_from'] == address, [\"timeStamp\"]].timeStamp)\n",
    "    time_diff = [j-i for i, j in zip(t[:1], t[-1:])]\n",
    "    time_list = []\n",
    "    for delta in time_diff:\n",
    "        time_list.append(delta / pd.Timedelta('1 hour'))\n",
    "    duration_out.append(pd.Series(time_list).mean())\n",
    "    \n",
    "df3.loc[:,\"duration_out\"]= duration_out"
   ]
  },
  {
   "cell_type": "code",
   "execution_count": 125,
   "metadata": {},
   "outputs": [
    {
     "name": "stderr",
     "output_type": "stream",
     "text": [
      "/Users/Kenneth/opt/anaconda3/lib/python3.8/site-packages/pandas/core/indexing.py:1596: SettingWithCopyWarning: \n",
      "A value is trying to be set on a copy of a slice from a DataFrame.\n",
      "Try using .loc[row_indexer,col_indexer] = value instead\n",
      "\n",
      "See the caveats in the documentation: https://pandas.pydata.org/pandas-docs/stable/user_guide/indexing.html#returning-a-view-versus-a-copy\n",
      "  self.obj[key] = _infer_fill_value(value)\n",
      "/Users/Kenneth/opt/anaconda3/lib/python3.8/site-packages/pandas/core/indexing.py:1745: SettingWithCopyWarning: \n",
      "A value is trying to be set on a copy of a slice from a DataFrame.\n",
      "Try using .loc[row_indexer,col_indexer] = value instead\n",
      "\n",
      "See the caveats in the documentation: https://pandas.pydata.org/pandas-docs/stable/user_guide/indexing.html#returning-a-view-versus-a-copy\n",
      "  isetter(ilocs[0], value)\n"
     ]
    }
   ],
   "source": [
    "#avg Number ingoing transactions per neighb\n",
    "length_neighb=[]\n",
    "for address in df3.wallet_address:\n",
    "    result = 0\n",
    "    filtered_df = df_Neighb_normal_USD.loc[(df_Neighb_normal_USD[\"id\"] == str(address))&(df_Neighb_normal_USD[\"out\"] == False)]\n",
    "    filtered_neighb = neighboars.loc[(neighboars[\"id\"] == str(address))]\n",
    "    length_p_neighb = []\n",
    "    for index, row in filtered_neighb.iterrows():\n",
    "        length_p_neighb.append(len(filtered_df.loc[filtered_df[\"neighboar\"] == str(row.neighboar)]))\n",
    "        result = pd.DataFrame(length_p_neighb)\n",
    "        result = result.iloc[:,0].mean()\n",
    "    length_neighb.append(result)\n",
    "        \n",
    "df3.loc[:,\"num_in_trans_1neighb\"]= length_neighb\n",
    "\n"
   ]
  },
  {
   "cell_type": "code",
   "execution_count": 126,
   "metadata": {},
   "outputs": [
    {
     "name": "stderr",
     "output_type": "stream",
     "text": [
      "/Users/Kenneth/opt/anaconda3/lib/python3.8/site-packages/pandas/core/indexing.py:1596: SettingWithCopyWarning: \n",
      "A value is trying to be set on a copy of a slice from a DataFrame.\n",
      "Try using .loc[row_indexer,col_indexer] = value instead\n",
      "\n",
      "See the caveats in the documentation: https://pandas.pydata.org/pandas-docs/stable/user_guide/indexing.html#returning-a-view-versus-a-copy\n",
      "  self.obj[key] = _infer_fill_value(value)\n",
      "/Users/Kenneth/opt/anaconda3/lib/python3.8/site-packages/pandas/core/indexing.py:1745: SettingWithCopyWarning: \n",
      "A value is trying to be set on a copy of a slice from a DataFrame.\n",
      "Try using .loc[row_indexer,col_indexer] = value instead\n",
      "\n",
      "See the caveats in the documentation: https://pandas.pydata.org/pandas-docs/stable/user_guide/indexing.html#returning-a-view-versus-a-copy\n",
      "  isetter(ilocs[0], value)\n"
     ]
    }
   ],
   "source": [
    "#percentage of transaction partners who received only one transaction from the address (sog. one Night Stands\n",
    "avg_oneNightStands_out = []\n",
    "for address in df3.wallet_address:\n",
    "    result = 0\n",
    "    result_p_address = []\n",
    "    filtered_df = df_Neighb_normal_USD.loc[(df_Neighb_normal_USD[\"id\"] == str(address))&(df_Neighb_normal_USD[\"out\"] == True)]\n",
    "    filtered_neighb = neighboars_out.loc[(neighboars_out[\"id\"] == str(address))]\n",
    "    for index, row in filtered_neighb.iterrows():\n",
    "        p_address = filtered_df.loc[filtered_df[\"neighboar\"] == str(row.neighboar), [\"neighboar\"]].count()\n",
    "        result_p_address.append(p_address)\n",
    "        result = pd.DataFrame(result_p_address)\n",
    "        result = result.iloc[:,0].eq(1).sum(axis = 0)\n",
    "        result2 = result\n",
    "        counts = filtered_neighb.iloc[:,1].count()\n",
    "        result3 = result2/counts\n",
    "    avg_oneNightStands_out.append(result3)\n",
    "        \n",
    "df3.loc[:,\"avg_oneNightStands_out\"]= avg_oneNightStands_out"
   ]
  },
  {
   "cell_type": "code",
   "execution_count": 127,
   "metadata": {},
   "outputs": [
    {
     "name": "stderr",
     "output_type": "stream",
     "text": [
      "/Users/Kenneth/opt/anaconda3/lib/python3.8/site-packages/pandas/core/indexing.py:1596: SettingWithCopyWarning: \n",
      "A value is trying to be set on a copy of a slice from a DataFrame.\n",
      "Try using .loc[row_indexer,col_indexer] = value instead\n",
      "\n",
      "See the caveats in the documentation: https://pandas.pydata.org/pandas-docs/stable/user_guide/indexing.html#returning-a-view-versus-a-copy\n",
      "  self.obj[key] = _infer_fill_value(value)\n",
      "/Users/Kenneth/opt/anaconda3/lib/python3.8/site-packages/pandas/core/indexing.py:1745: SettingWithCopyWarning: \n",
      "A value is trying to be set on a copy of a slice from a DataFrame.\n",
      "Try using .loc[row_indexer,col_indexer] = value instead\n",
      "\n",
      "See the caveats in the documentation: https://pandas.pydata.org/pandas-docs/stable/user_guide/indexing.html#returning-a-view-versus-a-copy\n",
      "  isetter(ilocs[0], value)\n"
     ]
    }
   ],
   "source": [
    "#percentage of transaction partners who received only one transaction from the address (sog. one Night Stands\n",
    "avg_oneNightStands_in = []\n",
    "for address in df3.wallet_address:\n",
    "    result = 0\n",
    "    result_p_address = []\n",
    "    filtered_df = df_Neighb_normal_USD.loc[(df_Neighb_normal_USD[\"id\"] == str(address))&(df_Neighb_normal_USD[\"out\"] == False)]\n",
    "    filtered_neighb = neighboars_in.loc[(neighboars_in[\"id\"] == str(address))]\n",
    "    for index, row in filtered_neighb.iterrows():\n",
    "        p_address = filtered_df.loc[filtered_df[\"neighboar\"] == str(row.neighboar), [\"neighboar\"]].count()\n",
    "        result_p_address.append(p_address)\n",
    "        result = pd.DataFrame(result_p_address)\n",
    "        result = result.iloc[:,0].eq(1).sum(axis = 0)\n",
    "        result2 = result\n",
    "        counts = filtered_neighb.iloc[:,1].count()\n",
    "        result3 = result2/counts\n",
    "    avg_oneNightStands_in.append(result3)\n",
    "        \n",
    "df3.loc[:,\"avg_oneNightStands_in\"]= avg_oneNightStands_in"
   ]
  },
  {
   "cell_type": "code",
   "execution_count": null,
   "metadata": {},
   "outputs": [],
   "source": [
    "filtered_neighb.iloc[:,1].count()"
   ]
  },
  {
   "cell_type": "markdown",
   "metadata": {},
   "source": [
    "## variables regarding the normal transactions of the first neighbs "
   ]
  },
  {
   "cell_type": "code",
   "execution_count": null,
   "metadata": {},
   "outputs": [],
   "source": [
    "#avg Number ingoing transactions per neighb\n",
    "length_neighb=[]\n",
    "for address in df3.wallet_address:\n",
    "    result = 0\n",
    "    filtered_df = df_Neighb_normal_USD.loc[(df_Neighb_normal_USD[\"id\"] == str(address))&(df_Neighb_normal_USD[\"out\"] == False)]\n",
    "    filtered_neighb = neighboars_in.loc[(neighboars_in[\"id\"] == str(address))]\n",
    "    length_p_neighb = []\n",
    "    for index, row in filtered_neighb.iterrows():\n",
    "        length_p_neighb.append(len(filtered_df.loc[filtered_df[\"neighboar\"] == str(row.neighboar)]))\n",
    "        result = pd.DataFrame(length_p_neighb)\n",
    "        result = result.iloc[:,0].mean()\n",
    "    length_neighb.append(result)\n",
    "        \n",
    "df3.loc[:,\"num_in_trans_1neighb\"]= length_neighb\n",
    "\n"
   ]
  },
  {
   "cell_type": "code",
   "execution_count": null,
   "metadata": {},
   "outputs": [],
   "source": [
    "#avg Number outgoing transactions per neighb\n",
    "length_neighb_out=[]\n",
    "for address in df3.wallet_address:\n",
    "    result = 0\n",
    "    filtered_df = df_Neighb_normal_USD.loc[(df_Neighb_normal_USD[\"id\"] == str(address))&(df_Neighb_normal_USD[\"out\"] == True)]\n",
    "    filtered_neighb = neighboars_out.loc[(neighboars_out[\"id\"] == str(address))]\n",
    "    length_p_neighb = []\n",
    "    for index, row in filtered_neighb.iterrows():\n",
    "        length_p_neighb.append(len(filtered_df.loc[filtered_df[\"neighboar\"] == str(row.neighboar)]))\n",
    "        result = pd.DataFrame(length_p_neighb)\n",
    "        result = result.iloc[:,0].mean()\n",
    "    length_neighb_out.append(result)\n",
    "        \n",
    "df3.loc[:,\"num_out_trans_1neighb\"]= length_neighb_out\n",
    "\n"
   ]
  },
  {
   "cell_type": "code",
   "execution_count": null,
   "metadata": {},
   "outputs": [],
   "source": [
    "#average amount outgoing transactions p neighb\n",
    "avg_tx_out_neighb = []\n",
    "for address in df3.wallet_address:\n",
    "    result = 0\n",
    "    result_p_address = []\n",
    "    filtered_df = df_Neighb_normal_USD.loc[(df_Neighb_normal_USD[\"id\"] == str(address))&(df_Neighb_normal_USD[\"out\"] == True)]\n",
    "    filtered_neighb = neighboars_out.loc[(neighboars_out[\"id\"] == str(address))]\n",
    "    for index, row in filtered_neighb.iterrows():\n",
    "        result_p_address.append(filtered_df.loc[filtered_df[\"neighboar\"] == str(row.neighboar), [\"eth_valueUSD\"]].mean())\n",
    "        result = pd.DataFrame(result_p_address)\n",
    "        result = result.iloc[:,0].mean()\n",
    "    avg_tx_out_neighb.append(result)\n",
    "        \n",
    "df3.loc[:,\"avg_tx_out_neighb\"]= avg_tx_out_neighb"
   ]
  },
  {
   "cell_type": "code",
   "execution_count": null,
   "metadata": {},
   "outputs": [],
   "source": [
    "#average amount ingoing transactions p neighb\n",
    "avg_tx_in_neighb = []\n",
    "for address in df3.wallet_address:\n",
    "    result = 0\n",
    "    result_p_address = []\n",
    "    filtered_df = df_Neighb_normal_USD.loc[(df_Neighb_normal_USD[\"id\"] == str(address))&(df_Neighb_normal_USD[\"out\"] == False)]\n",
    "    filtered_neighb = neighboars_in.loc[(neighboars_in[\"id\"] == str(address))]\n",
    "    for index, row in filtered_neighb.iterrows():\n",
    "        result_p_address.append(filtered_df.loc[filtered_df[\"neighboar\"] == str(row.neighboar), [\"eth_valueUSD\"]].mean())\n",
    "        result = pd.DataFrame(result_p_address)\n",
    "        result = result.iloc[:,0].mean()\n",
    "    avg_tx_in_neighb.append(result)\n",
    "        \n",
    "df3.loc[:,\"avg_tx_in_neighb\"]= avg_tx_in_neighb"
   ]
  },
  {
   "cell_type": "code",
   "execution_count": 131,
   "metadata": {},
   "outputs": [
    {
     "name": "stderr",
     "output_type": "stream",
     "text": [
      "/Users/Kenneth/opt/anaconda3/lib/python3.8/site-packages/pandas/core/indexing.py:1596: SettingWithCopyWarning: \n",
      "A value is trying to be set on a copy of a slice from a DataFrame.\n",
      "Try using .loc[row_indexer,col_indexer] = value instead\n",
      "\n",
      "See the caveats in the documentation: https://pandas.pydata.org/pandas-docs/stable/user_guide/indexing.html#returning-a-view-versus-a-copy\n",
      "  self.obj[key] = _infer_fill_value(value)\n",
      "/Users/Kenneth/opt/anaconda3/lib/python3.8/site-packages/pandas/core/indexing.py:1745: SettingWithCopyWarning: \n",
      "A value is trying to be set on a copy of a slice from a DataFrame.\n",
      "Try using .loc[row_indexer,col_indexer] = value instead\n",
      "\n",
      "See the caveats in the documentation: https://pandas.pydata.org/pandas-docs/stable/user_guide/indexing.html#returning-a-view-versus-a-copy\n",
      "  isetter(ilocs[0], value)\n"
     ]
    }
   ],
   "source": [
    "#max amount outgoing transactions \n",
    "max_tx_out_neighb = []\n",
    "for address in df3.wallet_address:\n",
    "    result = 0\n",
    "    result_p_address = []\n",
    "    filtered_df = df_Neighb_normal_USD.loc[(df_Neighb_normal_USD[\"id\"] == str(address))&(df_Neighb_normal_USD[\"out\"] == True)]\n",
    "    filtered_neighb = neighboars_out.loc[(neighboars_out[\"id\"] == str(address))]\n",
    "    for index, row in filtered_neighb.iterrows():\n",
    "        result_p_address.append(filtered_df.loc[filtered_df[\"neighboar\"] == str(row.neighboar), [\"eth_valueUSD\"]].max())\n",
    "        result = pd.DataFrame(result_p_address)\n",
    "        result = result.iloc[:,0].mean()\n",
    "    max_tx_out_neighb.append(result)\n",
    "        \n",
    "df3.loc[:,\"max_tx_out_neighb\"]= max_tx_out_neighb"
   ]
  },
  {
   "cell_type": "code",
   "execution_count": 132,
   "metadata": {},
   "outputs": [
    {
     "name": "stderr",
     "output_type": "stream",
     "text": [
      "/Users/Kenneth/opt/anaconda3/lib/python3.8/site-packages/pandas/core/indexing.py:1596: SettingWithCopyWarning: \n",
      "A value is trying to be set on a copy of a slice from a DataFrame.\n",
      "Try using .loc[row_indexer,col_indexer] = value instead\n",
      "\n",
      "See the caveats in the documentation: https://pandas.pydata.org/pandas-docs/stable/user_guide/indexing.html#returning-a-view-versus-a-copy\n",
      "  self.obj[key] = _infer_fill_value(value)\n",
      "/Users/Kenneth/opt/anaconda3/lib/python3.8/site-packages/pandas/core/indexing.py:1745: SettingWithCopyWarning: \n",
      "A value is trying to be set on a copy of a slice from a DataFrame.\n",
      "Try using .loc[row_indexer,col_indexer] = value instead\n",
      "\n",
      "See the caveats in the documentation: https://pandas.pydata.org/pandas-docs/stable/user_guide/indexing.html#returning-a-view-versus-a-copy\n",
      "  isetter(ilocs[0], value)\n"
     ]
    }
   ],
   "source": [
    "#max amount ingoing transactions \n",
    "max_tx_in_neighb = []\n",
    "for address in df3.wallet_address:\n",
    "    result = 0\n",
    "    result_p_address = []\n",
    "    filtered_df = df_Neighb_normal_USD.loc[(df_Neighb_normal_USD[\"id\"] == str(address))&(df_Neighb_normal_USD[\"out\"] == False)]\n",
    "    filtered_neighb = neighboars_in.loc[(neighboars_in[\"id\"] == str(address))]\n",
    "    for index, row in filtered_neighb.iterrows():\n",
    "        result_p_address.append(filtered_df.loc[filtered_df[\"neighboar\"] == str(row.neighboar), [\"eth_valueUSD\"]].max())\n",
    "        result = pd.DataFrame(result_p_address)\n",
    "        result = result.iloc[:,0].mean()\n",
    "    max_tx_in_neighb.append(result)\n",
    "        \n",
    "df3.loc[:,\"max_tx_in_neighb\"]= max_tx_in_neighb"
   ]
  },
  {
   "cell_type": "code",
   "execution_count": 133,
   "metadata": {},
   "outputs": [
    {
     "name": "stderr",
     "output_type": "stream",
     "text": [
      "/Users/Kenneth/opt/anaconda3/lib/python3.8/site-packages/pandas/core/indexing.py:1596: SettingWithCopyWarning: \n",
      "A value is trying to be set on a copy of a slice from a DataFrame.\n",
      "Try using .loc[row_indexer,col_indexer] = value instead\n",
      "\n",
      "See the caveats in the documentation: https://pandas.pydata.org/pandas-docs/stable/user_guide/indexing.html#returning-a-view-versus-a-copy\n",
      "  self.obj[key] = _infer_fill_value(value)\n",
      "/Users/Kenneth/opt/anaconda3/lib/python3.8/site-packages/pandas/core/indexing.py:1745: SettingWithCopyWarning: \n",
      "A value is trying to be set on a copy of a slice from a DataFrame.\n",
      "Try using .loc[row_indexer,col_indexer] = value instead\n",
      "\n",
      "See the caveats in the documentation: https://pandas.pydata.org/pandas-docs/stable/user_guide/indexing.html#returning-a-view-versus-a-copy\n",
      "  isetter(ilocs[0], value)\n"
     ]
    }
   ],
   "source": [
    "#sum amount ingoing transactions \n",
    "sum_tx_in_neighb = []\n",
    "for address in df3.wallet_address:\n",
    "    result = 0\n",
    "    result_p_address = []\n",
    "    filtered_df = df_Neighb_normal_USD.loc[(df_Neighb_normal_USD[\"id\"] == str(address))&(df_Neighb_normal_USD[\"out\"] == False)]\n",
    "    filtered_neighb = neighboars_in.loc[(neighboars_in[\"id\"] == str(address))]\n",
    "    for index, row in filtered_neighb.iterrows():\n",
    "        result_p_address.append(filtered_df.loc[filtered_df[\"neighboar\"] == str(row.neighboar), [\"eth_valueUSD\"]].sum())\n",
    "        result = pd.DataFrame(result_p_address)\n",
    "        result = result.iloc[:,0].mean()\n",
    "    sum_tx_in_neighb.append(result)\n",
    "        \n",
    "df3.loc[:,\"sum_tx_in_neighb\"]= sum_tx_in_neighb"
   ]
  },
  {
   "cell_type": "code",
   "execution_count": 134,
   "metadata": {},
   "outputs": [
    {
     "name": "stderr",
     "output_type": "stream",
     "text": [
      "/Users/Kenneth/opt/anaconda3/lib/python3.8/site-packages/pandas/core/indexing.py:1596: SettingWithCopyWarning: \n",
      "A value is trying to be set on a copy of a slice from a DataFrame.\n",
      "Try using .loc[row_indexer,col_indexer] = value instead\n",
      "\n",
      "See the caveats in the documentation: https://pandas.pydata.org/pandas-docs/stable/user_guide/indexing.html#returning-a-view-versus-a-copy\n",
      "  self.obj[key] = _infer_fill_value(value)\n",
      "/Users/Kenneth/opt/anaconda3/lib/python3.8/site-packages/pandas/core/indexing.py:1745: SettingWithCopyWarning: \n",
      "A value is trying to be set on a copy of a slice from a DataFrame.\n",
      "Try using .loc[row_indexer,col_indexer] = value instead\n",
      "\n",
      "See the caveats in the documentation: https://pandas.pydata.org/pandas-docs/stable/user_guide/indexing.html#returning-a-view-versus-a-copy\n",
      "  isetter(ilocs[0], value)\n"
     ]
    }
   ],
   "source": [
    "#sum amount outgoing transactions \n",
    "sum_tx_out_neighb = []\n",
    "for address in df3.wallet_address:\n",
    "    result = 0\n",
    "    result_p_address = []\n",
    "    filtered_df = df_Neighb_normal_USD.loc[(df_Neighb_normal_USD[\"id\"] == str(address))&(df_Neighb_normal_USD[\"out\"] == True)]\n",
    "    filtered_neighb = neighboars_out.loc[(neighboars_out[\"id\"] == str(address))]\n",
    "    for index, row in filtered_neighb.iterrows():\n",
    "        result_p_address.append(filtered_df.loc[filtered_df[\"neighboar\"] == str(row.neighboar), [\"eth_valueUSD\"]].sum())\n",
    "        result = pd.DataFrame(result_p_address)\n",
    "        result = result.iloc[:,0].mean()\n",
    "    sum_tx_out_neighb.append(result)\n",
    "        \n",
    "df3.loc[:,\"sum_tx_out_neighb\"]= sum_tx_out_neighb"
   ]
  },
  {
   "cell_type": "code",
   "execution_count": 135,
   "metadata": {},
   "outputs": [
    {
     "name": "stderr",
     "output_type": "stream",
     "text": [
      "/Users/Kenneth/opt/anaconda3/lib/python3.8/site-packages/pandas/core/indexing.py:1596: SettingWithCopyWarning: \n",
      "A value is trying to be set on a copy of a slice from a DataFrame.\n",
      "Try using .loc[row_indexer,col_indexer] = value instead\n",
      "\n",
      "See the caveats in the documentation: https://pandas.pydata.org/pandas-docs/stable/user_guide/indexing.html#returning-a-view-versus-a-copy\n",
      "  self.obj[key] = _infer_fill_value(value)\n",
      "/Users/Kenneth/opt/anaconda3/lib/python3.8/site-packages/pandas/core/indexing.py:1745: SettingWithCopyWarning: \n",
      "A value is trying to be set on a copy of a slice from a DataFrame.\n",
      "Try using .loc[row_indexer,col_indexer] = value instead\n",
      "\n",
      "See the caveats in the documentation: https://pandas.pydata.org/pandas-docs/stable/user_guide/indexing.html#returning-a-view-versus-a-copy\n",
      "  isetter(ilocs[0], value)\n"
     ]
    }
   ],
   "source": [
    "#standard deviation amount outgoing transaction\n",
    "std_tx_out_neighb = []\n",
    "for address in df3.wallet_address:\n",
    "    result = 0\n",
    "    result_p_address = []\n",
    "    filtered_df = df_Neighb_normal_USD.loc[(df_Neighb_normal_USD[\"id\"] == str(address))&(df_Neighb_normal_USD[\"out\"] == True)]\n",
    "    filtered_neighb = neighboars_out.loc[(neighboars_out[\"id\"] == str(address))]\n",
    "    for index, row in filtered_neighb.iterrows():\n",
    "        result_p_address.append(filtered_df.loc[filtered_df[\"neighboar\"] == str(row.neighboar), [\"eth_valueUSD\"]].std())\n",
    "        result = pd.DataFrame(result_p_address)\n",
    "        result = result.iloc[:,0].mean()\n",
    "    std_tx_out_neighb.append(result)\n",
    "        \n",
    "df3.loc[:,\"std_tx_out_neighb\"]= std_tx_out_neighb"
   ]
  },
  {
   "cell_type": "code",
   "execution_count": 136,
   "metadata": {},
   "outputs": [
    {
     "name": "stderr",
     "output_type": "stream",
     "text": [
      "/Users/Kenneth/opt/anaconda3/lib/python3.8/site-packages/pandas/core/indexing.py:1596: SettingWithCopyWarning: \n",
      "A value is trying to be set on a copy of a slice from a DataFrame.\n",
      "Try using .loc[row_indexer,col_indexer] = value instead\n",
      "\n",
      "See the caveats in the documentation: https://pandas.pydata.org/pandas-docs/stable/user_guide/indexing.html#returning-a-view-versus-a-copy\n",
      "  self.obj[key] = _infer_fill_value(value)\n",
      "/Users/Kenneth/opt/anaconda3/lib/python3.8/site-packages/pandas/core/indexing.py:1745: SettingWithCopyWarning: \n",
      "A value is trying to be set on a copy of a slice from a DataFrame.\n",
      "Try using .loc[row_indexer,col_indexer] = value instead\n",
      "\n",
      "See the caveats in the documentation: https://pandas.pydata.org/pandas-docs/stable/user_guide/indexing.html#returning-a-view-versus-a-copy\n",
      "  isetter(ilocs[0], value)\n"
     ]
    }
   ],
   "source": [
    "#standard deviation amount ingoing transaction\n",
    "std_tx_in_neighb = []\n",
    "for address in df3.wallet_address:\n",
    "    result = 0\n",
    "    result_p_address = []\n",
    "    filtered_df = df_Neighb_normal_USD.loc[(df_Neighb_normal_USD[\"id\"] == str(address))&(df_Neighb_normal_USD[\"out\"] == False)]\n",
    "    filtered_neighb = neighboars_in.loc[(neighboars_in[\"id\"] == str(address))]\n",
    "    for index, row in filtered_neighb.iterrows():\n",
    "        result_p_address.append(filtered_df.loc[filtered_df[\"neighboar\"] == str(row.neighboar), [\"eth_valueUSD\"]].std())\n",
    "        result = pd.DataFrame(result_p_address)\n",
    "        result = result.iloc[:,0].mean()\n",
    "    std_tx_in_neighb.append(result)\n",
    "        \n",
    "df3.loc[:,\"std_tx_in_neighb\"]= std_tx_in_neighb"
   ]
  },
  {
   "cell_type": "code",
   "execution_count": 137,
   "metadata": {},
   "outputs": [
    {
     "name": "stderr",
     "output_type": "stream",
     "text": [
      "/Users/Kenneth/opt/anaconda3/lib/python3.8/site-packages/pandas/core/indexing.py:1596: SettingWithCopyWarning: \n",
      "A value is trying to be set on a copy of a slice from a DataFrame.\n",
      "Try using .loc[row_indexer,col_indexer] = value instead\n",
      "\n",
      "See the caveats in the documentation: https://pandas.pydata.org/pandas-docs/stable/user_guide/indexing.html#returning-a-view-versus-a-copy\n",
      "  self.obj[key] = _infer_fill_value(value)\n",
      "/Users/Kenneth/opt/anaconda3/lib/python3.8/site-packages/pandas/core/indexing.py:1745: SettingWithCopyWarning: \n",
      "A value is trying to be set on a copy of a slice from a DataFrame.\n",
      "Try using .loc[row_indexer,col_indexer] = value instead\n",
      "\n",
      "See the caveats in the documentation: https://pandas.pydata.org/pandas-docs/stable/user_guide/indexing.html#returning-a-view-versus-a-copy\n",
      "  isetter(ilocs[0], value)\n"
     ]
    }
   ],
   "source": [
    "#number of unique outgoing transaction partners \n",
    "unique_tx_out_neighb = []\n",
    "for address in df3.wallet_address:\n",
    "    result = 0\n",
    "    result_p_address = []\n",
    "    filtered_df = df_Neighb_normal_USD.loc[(df_Neighb_normal_USD[\"id\"] == str(address))&(df_Neighb_normal_USD[\"out\"] == True)]\n",
    "    filtered_neighb = neighboars_out.loc[(neighboars_out[\"id\"] == str(address))]\n",
    "    for index, row in filtered_neighb.iterrows():\n",
    "        result_p_address.append(filtered_df.loc[filtered_df[\"neighboar\"] == str(row.neighboar), [\"tx_to\"]].nunique().iloc[0])\n",
    "        result = pd.DataFrame(result_p_address)\n",
    "        result = result.iloc[:,0].mean()\n",
    "    unique_tx_out_neighb.append(result)\n",
    "        \n",
    "df3.loc[:,\"unique_tx_out_neighb\"]= unique_tx_out_neighb"
   ]
  },
  {
   "cell_type": "code",
   "execution_count": 138,
   "metadata": {},
   "outputs": [
    {
     "name": "stderr",
     "output_type": "stream",
     "text": [
      "/Users/Kenneth/opt/anaconda3/lib/python3.8/site-packages/pandas/core/indexing.py:1596: SettingWithCopyWarning: \n",
      "A value is trying to be set on a copy of a slice from a DataFrame.\n",
      "Try using .loc[row_indexer,col_indexer] = value instead\n",
      "\n",
      "See the caveats in the documentation: https://pandas.pydata.org/pandas-docs/stable/user_guide/indexing.html#returning-a-view-versus-a-copy\n",
      "  self.obj[key] = _infer_fill_value(value)\n",
      "/Users/Kenneth/opt/anaconda3/lib/python3.8/site-packages/pandas/core/indexing.py:1745: SettingWithCopyWarning: \n",
      "A value is trying to be set on a copy of a slice from a DataFrame.\n",
      "Try using .loc[row_indexer,col_indexer] = value instead\n",
      "\n",
      "See the caveats in the documentation: https://pandas.pydata.org/pandas-docs/stable/user_guide/indexing.html#returning-a-view-versus-a-copy\n",
      "  isetter(ilocs[0], value)\n"
     ]
    }
   ],
   "source": [
    "#number of unique ingoing transaction partners \n",
    "unique_tx_in_neighb = []\n",
    "for address in df3.wallet_address:\n",
    "    result = 0\n",
    "    result_p_address = []\n",
    "    filtered_df = df_Neighb_normal_USD.loc[(df_Neighb_normal_USD[\"id\"] == str(address))&(df_Neighb_normal_USD[\"out\"] == False)]\n",
    "    filtered_neighb = neighboars_in.loc[(neighboars_in[\"id\"] == str(address))]\n",
    "    for index, row in filtered_neighb.iterrows():\n",
    "        result_p_address.append(filtered_df.loc[filtered_df[\"neighboar\"] == str(row.neighboar), [\"tx_to\"]].nunique().iloc[0])\n",
    "        result = pd.DataFrame(result_p_address)\n",
    "        result = result.iloc[:,0].mean()\n",
    "    unique_tx_in_neighb.append(result)\n",
    "        \n",
    "df3.loc[:,\"unique_tx_in_neighb\"]= unique_tx_in_neighb"
   ]
  },
  {
   "cell_type": "code",
   "execution_count": 139,
   "metadata": {},
   "outputs": [
    {
     "name": "stderr",
     "output_type": "stream",
     "text": [
      "/Users/Kenneth/opt/anaconda3/lib/python3.8/site-packages/pandas/core/indexing.py:1596: SettingWithCopyWarning: \n",
      "A value is trying to be set on a copy of a slice from a DataFrame.\n",
      "Try using .loc[row_indexer,col_indexer] = value instead\n",
      "\n",
      "See the caveats in the documentation: https://pandas.pydata.org/pandas-docs/stable/user_guide/indexing.html#returning-a-view-versus-a-copy\n",
      "  self.obj[key] = _infer_fill_value(value)\n",
      "/Users/Kenneth/opt/anaconda3/lib/python3.8/site-packages/pandas/core/indexing.py:1745: SettingWithCopyWarning: \n",
      "A value is trying to be set on a copy of a slice from a DataFrame.\n",
      "Try using .loc[row_indexer,col_indexer] = value instead\n",
      "\n",
      "See the caveats in the documentation: https://pandas.pydata.org/pandas-docs/stable/user_guide/indexing.html#returning-a-view-versus-a-copy\n",
      "  isetter(ilocs[0], value)\n"
     ]
    }
   ],
   "source": [
    "#average amount outgoing transaction cost \n",
    "avg_txcost_out_neighb = []\n",
    "for address in df3.wallet_address:\n",
    "    result = 0\n",
    "    result_p_address = []\n",
    "    filtered_df = df_Neighb_normal_USD.loc[(df_Neighb_normal_USD[\"id\"] == str(address))&(df_Neighb_normal_USD[\"out\"] == True)]\n",
    "    filtered_neighb = neighboars_out.loc[(neighboars_out[\"id\"] == str(address))]\n",
    "    for index, row in filtered_neighb.iterrows():\n",
    "        result_p_address.append(filtered_df.loc[filtered_df[\"neighboar\"] == str(row.neighboar), [\"transaction_costUSD\"]].mean())\n",
    "        result = pd.DataFrame(result_p_address)\n",
    "        result = result.iloc[:,0].mean()\n",
    "    avg_txcost_out_neighb.append(result)\n",
    "        \n",
    "df3.loc[:,\"avg_txcost_out_neighb\"]= avg_txcost_out_neighb"
   ]
  },
  {
   "cell_type": "code",
   "execution_count": 140,
   "metadata": {},
   "outputs": [
    {
     "name": "stderr",
     "output_type": "stream",
     "text": [
      "/Users/Kenneth/opt/anaconda3/lib/python3.8/site-packages/pandas/core/indexing.py:1596: SettingWithCopyWarning: \n",
      "A value is trying to be set on a copy of a slice from a DataFrame.\n",
      "Try using .loc[row_indexer,col_indexer] = value instead\n",
      "\n",
      "See the caveats in the documentation: https://pandas.pydata.org/pandas-docs/stable/user_guide/indexing.html#returning-a-view-versus-a-copy\n",
      "  self.obj[key] = _infer_fill_value(value)\n",
      "/Users/Kenneth/opt/anaconda3/lib/python3.8/site-packages/pandas/core/indexing.py:1745: SettingWithCopyWarning: \n",
      "A value is trying to be set on a copy of a slice from a DataFrame.\n",
      "Try using .loc[row_indexer,col_indexer] = value instead\n",
      "\n",
      "See the caveats in the documentation: https://pandas.pydata.org/pandas-docs/stable/user_guide/indexing.html#returning-a-view-versus-a-copy\n",
      "  isetter(ilocs[0], value)\n"
     ]
    }
   ],
   "source": [
    "#average amount ingoing transaction cost \n",
    "avg_txcost_in_neighb = []\n",
    "for address in df3.wallet_address:\n",
    "    result = 0\n",
    "    result_p_address = []\n",
    "    filtered_df = df_Neighb_normal_USD.loc[(df_Neighb_normal_USD[\"id\"] == str(address))&(df_Neighb_normal_USD[\"out\"] == False)]\n",
    "    filtered_neighb = neighboars_in.loc[(neighboars_in[\"id\"] == str(address))]\n",
    "    for index, row in filtered_neighb.iterrows():\n",
    "        result_p_address.append(filtered_df.loc[filtered_df[\"neighboar\"] == str(row.neighboar), [\"transaction_costUSD\"]].mean())\n",
    "        result = pd.DataFrame(result_p_address)\n",
    "        result = result.iloc[:,0].mean()\n",
    "    avg_txcost_in_neighb.append(result)\n",
    "        \n",
    "df3.loc[:,\"avg_txcost_in_neighb\"]= avg_txcost_in_neighb"
   ]
  },
  {
   "cell_type": "code",
   "execution_count": 141,
   "metadata": {},
   "outputs": [
    {
     "name": "stderr",
     "output_type": "stream",
     "text": [
      "/Users/Kenneth/opt/anaconda3/lib/python3.8/site-packages/pandas/core/indexing.py:1596: SettingWithCopyWarning: \n",
      "A value is trying to be set on a copy of a slice from a DataFrame.\n",
      "Try using .loc[row_indexer,col_indexer] = value instead\n",
      "\n",
      "See the caveats in the documentation: https://pandas.pydata.org/pandas-docs/stable/user_guide/indexing.html#returning-a-view-versus-a-copy\n",
      "  self.obj[key] = _infer_fill_value(value)\n",
      "/Users/Kenneth/opt/anaconda3/lib/python3.8/site-packages/pandas/core/indexing.py:1745: SettingWithCopyWarning: \n",
      "A value is trying to be set on a copy of a slice from a DataFrame.\n",
      "Try using .loc[row_indexer,col_indexer] = value instead\n",
      "\n",
      "See the caveats in the documentation: https://pandas.pydata.org/pandas-docs/stable/user_guide/indexing.html#returning-a-view-versus-a-copy\n",
      "  isetter(ilocs[0], value)\n"
     ]
    }
   ],
   "source": [
    "#max amount ingoing transaction cost\n",
    "max_txcost_in_neighb = []\n",
    "for address in df3.wallet_address:\n",
    "    result = 0\n",
    "    result_p_address = []\n",
    "    filtered_df = df_Neighb_normal_USD.loc[(df_Neighb_normal_USD[\"id\"] == str(address))&(df_Neighb_normal_USD[\"out\"] == False)]\n",
    "    filtered_neighb = neighboars_in.loc[(neighboars_in[\"id\"] == str(address))]\n",
    "    for index, row in filtered_neighb.iterrows():\n",
    "        result_p_address.append(filtered_df.loc[filtered_df[\"neighboar\"] == str(row.neighboar), [\"transaction_costUSD\"]].max())\n",
    "        result = pd.DataFrame(result_p_address)\n",
    "        result = result.iloc[:,0].mean()\n",
    "    max_txcost_in_neighb.append(result)\n",
    "        \n",
    "df3.loc[:,\"max_txcost_in_neighb\"]= max_txcost_in_neighb"
   ]
  },
  {
   "cell_type": "code",
   "execution_count": 142,
   "metadata": {},
   "outputs": [
    {
     "name": "stderr",
     "output_type": "stream",
     "text": [
      "/Users/Kenneth/opt/anaconda3/lib/python3.8/site-packages/pandas/core/indexing.py:1596: SettingWithCopyWarning: \n",
      "A value is trying to be set on a copy of a slice from a DataFrame.\n",
      "Try using .loc[row_indexer,col_indexer] = value instead\n",
      "\n",
      "See the caveats in the documentation: https://pandas.pydata.org/pandas-docs/stable/user_guide/indexing.html#returning-a-view-versus-a-copy\n",
      "  self.obj[key] = _infer_fill_value(value)\n",
      "/Users/Kenneth/opt/anaconda3/lib/python3.8/site-packages/pandas/core/indexing.py:1745: SettingWithCopyWarning: \n",
      "A value is trying to be set on a copy of a slice from a DataFrame.\n",
      "Try using .loc[row_indexer,col_indexer] = value instead\n",
      "\n",
      "See the caveats in the documentation: https://pandas.pydata.org/pandas-docs/stable/user_guide/indexing.html#returning-a-view-versus-a-copy\n",
      "  isetter(ilocs[0], value)\n"
     ]
    }
   ],
   "source": [
    "#max amount out going transaction cost\n",
    "max_txcost_out_neighb = []\n",
    "for address in df3.wallet_address:\n",
    "    result = 0\n",
    "    result_p_address = []\n",
    "    filtered_df = df_Neighb_normal_USD.loc[(df_Neighb_normal_USD[\"id\"] == str(address))&(df_Neighb_normal_USD[\"out\"] == True)]\n",
    "    filtered_neighb = neighboars_out.loc[(neighboars_out[\"id\"] == str(address))]\n",
    "    for index, row in filtered_neighb.iterrows():\n",
    "        result_p_address.append(filtered_df.loc[filtered_df[\"neighboar\"] == str(row.neighboar), [\"transaction_costUSD\"]].max())\n",
    "        result = pd.DataFrame(result_p_address)\n",
    "        result = result.iloc[:,0].mean()\n",
    "    max_txcost_out_neighb.append(result)\n",
    "        \n",
    "df3.loc[:,\"max_txcost_out_neighb\"]= max_txcost_out_neighb"
   ]
  },
  {
   "cell_type": "code",
   "execution_count": 149,
   "metadata": {},
   "outputs": [],
   "source": [
    "df3.to_csv(\"first_data.csv\")\n",
    "\n"
   ]
  },
  {
   "cell_type": "markdown",
   "metadata": {},
   "source": [
    "## Get ERC variables for origin addresses"
   ]
  },
  {
   "cell_type": "code",
   "execution_count": 4,
   "metadata": {},
   "outputs": [],
   "source": [
    "df3 = pd.read_csv(\"first_data.csv\")"
   ]
  },
  {
   "cell_type": "code",
   "execution_count": 11,
   "metadata": {},
   "outputs": [],
   "source": [
    "df_origin_erc20_USD['tokenSymbol'] = pd.Categorical(df_origin_erc20_USD['tokenSymbol'])"
   ]
  },
  {
   "cell_type": "code",
   "execution_count": 12,
   "metadata": {},
   "outputs": [
    {
     "name": "stdout",
     "output_type": "stream",
     "text": [
      "Index(['$ANRX', '$BASED', '$BREAST', '$DG', '$FDD', '$ITG', '$JINDOINU',\n",
      "       '0xBTC', '0xBUTT', '1-UP',\n",
      "       ...\n",
      "       'yvWETH', 'yvYFI', 'yveCRV-DAO', 'yyDAI+yUSDC+yUSDT+yTUSD', 'zSK',\n",
      "       'ziot', 'Ͼ', '⚗️', '✌(◕‿-)✌  tinyurl.com/nicetokens', '✨'],\n",
      "      dtype='object', length=2128)\n"
     ]
    }
   ],
   "source": [
    "print (df_origin_erc20_USD['tokenSymbol'].cat.categories)"
   ]
  },
  {
   "cell_type": "code",
   "execution_count": 13,
   "metadata": {},
   "outputs": [],
   "source": [
    "#Number ingoing transactions\n",
    "lengthERC=[]\n",
    "for address in df3.wallet_address:\n",
    "    lengthERC.append(len(df_origin_erc20_USD[df_origin_erc20_USD[\"tx_to\"] == str(address)]))\n",
    "df3.loc[:,\"num_in_transERC\"]= lengthERC"
   ]
  },
  {
   "cell_type": "code",
   "execution_count": 14,
   "metadata": {},
   "outputs": [],
   "source": [
    "#Number ingoing transactions\n",
    "lengthERC=[]\n",
    "for address in df3.wallet_address:\n",
    "    lengthERC.append(len(df_origin_erc20_USD[df_origin_erc20_USD[\"tx_from\"] == str(address)]))\n",
    "df3.loc[:,\"num_out_transERC\"]= lengthERC"
   ]
  },
  {
   "cell_type": "code",
   "execution_count": 25,
   "metadata": {},
   "outputs": [
    {
     "name": "stdout",
     "output_type": "stream",
     "text": [
      "\n"
     ]
    }
   ],
   "source": [
    "#number of unique outgoing transaction partners \n",
    "ERCunique_tpartn_out=[]\n",
    "for address in df3.wallet_address:\n",
    "    ERCunique_tpartn_out.append(df_origin_erc20_USD.loc[(df_origin_erc20_USD['tx_from'] == address), [\"tx_to\"]].nunique())\n",
    "df3.loc[:,\"ERCunique_tpartn_out\"]= ERCunique_tpartn_out"
   ]
  },
  {
   "cell_type": "code",
   "execution_count": 26,
   "metadata": {},
   "outputs": [],
   "source": [
    "#number of unique ingoing transaction partners \n",
    "ERCunique_tpartn_in=[]\n",
    "for address in df3.wallet_address:\n",
    "    ERCunique_tpartn_in.append(df_origin_erc20_USD.loc[(df_origin_erc20_USD['tx_to'] == address), [\"tx_from\"]].nunique())\n",
    "df3.loc[:,\"ERCunique_tpartn_in\"]= ERCunique_tpartn_in"
   ]
  },
  {
   "cell_type": "code",
   "execution_count": 27,
   "metadata": {},
   "outputs": [],
   "source": [
    "#average outg. transaction costs\n",
    "ERCavg_transcost_out=[]\n",
    "for address in df3.wallet_address:\n",
    "    ERCavg_transcost_out.append(df_origin_erc20_USD.loc[lambda df_origin_erc20_USD: df_origin_erc20_USD['tx_from'] == str(address), [\"transaction_costUSD\"]].mean())\n",
    "df3.loc[:,\"ERCavg_transcost_out\"]= ERCavg_transcost_out "
   ]
  },
  {
   "cell_type": "code",
   "execution_count": 68,
   "metadata": {},
   "outputs": [],
   "source": [
    "#average inc. transaction costs\n",
    "ERCavg_transcost_in=[]\n",
    "for address in df3.wallet_address:\n",
    "    ERCavg_transcost_in.append(df_origin_erc20_USD.loc[lambda df_origin_erc20_USD: df_origin_erc20_USD['tx_to'] == str(address), [\"transaction_costUSD\"]].mean())\n",
    "df3.loc[:,\"ERCavg_transcost_in\"]= ERCavg_transcost_in"
   ]
  },
  {
   "cell_type": "code",
   "execution_count": 69,
   "metadata": {},
   "outputs": [],
   "source": [
    "#max transaction costs outgoing\n",
    "ERCmax_transcost_out=[]\n",
    "for address in df3.wallet_address:\n",
    "    ERCmax_transcost_out.append(df_origin_erc20_USD.loc[lambda df_origin_erc20_USD: df_origin_erc20_USD['tx_from'] == str(address), [\"transaction_costUSD\"]].max())\n",
    "df3.loc[:,\"ERCmax_transcost_out\"]= ERCmax_transcost_out"
   ]
  },
  {
   "cell_type": "code",
   "execution_count": 108,
   "metadata": {},
   "outputs": [],
   "source": [
    "#number of different traded tokens (outgoing + ingoing)\n",
    "ERC_nb_tkn_out=[]\n",
    "ERC_nb_tkn_in=[]\n",
    "ERC_nb_tkn_tot=[]\n",
    "for address in df3.wallet_address:\n",
    "    ERC_nb_tkn_out.append(df_origin_erc20_USD.loc[lambda df_origin_erc20_USD: df_origin_erc20_USD['tx_from'] == str(address), [\"tokenSymbol\"]].nunique().iloc[0])\n",
    "    ERC_nb_tkn_in.append(df_origin_erc20_USD.loc[lambda df_origin_erc20_USD: df_origin_erc20_USD['tx_to'] == str(address), [\"tokenSymbol\"]].nunique().iloc[0])\n",
    "ERC_nb_tkn_tot = pd.DataFrame(ERC_nb_tkn_out)+ pd.DataFrame(ERC_nb_tkn_in)\n",
    "#df3.loc[:,\"ERC_nb_tkn_tot\"]= ERC_nb_tkn_tot"
   ]
  },
  {
   "cell_type": "code",
   "execution_count": 98,
   "metadata": {},
   "outputs": [],
   "source": [
    "df3 = df3.drop(['ERC_nb_tkn_tot'], axis=1)"
   ]
  },
  {
   "cell_type": "code",
   "execution_count": 109,
   "metadata": {},
   "outputs": [],
   "source": [
    "ERC_nb_tkn_tot = ERC_nb_tkn_tot.rename({0: 'ERC_nb_tkn_tot'}, axis = 1)"
   ]
  },
  {
   "cell_type": "markdown",
   "metadata": {},
   "source": [
    "## Herding Variable Creation"
   ]
  },
  {
   "cell_type": "code",
   "execution_count": 196,
   "metadata": {},
   "outputs": [
    {
     "data": {
      "text/plain": [
       "timeStamp\n",
       "2017-05-01 21:00:00     1\n",
       "2017-05-01 22:00:00     0\n",
       "2017-05-01 23:00:00     0\n",
       "2017-05-02 00:00:00     0\n",
       "2017-05-02 01:00:00     0\n",
       "                       ..\n",
       "2021-07-16 19:00:00     5\n",
       "2021-07-16 20:00:00     3\n",
       "2021-07-16 21:00:00    12\n",
       "2021-07-16 22:00:00    10\n",
       "2021-07-16 23:00:00    17\n",
       "Freq: H, Name: out, Length: 36891, dtype: int64"
      ]
     },
     "execution_count": 196,
     "metadata": {},
     "output_type": "execute_result"
    }
   ],
   "source": [
    "#number of sells\n",
    "hot_sell_per = df_test[df_test[\"out\"]==True].resample(\"H\", on = \"timeStamp\").out.count()\n",
    "hot_sell_per"
   ]
  },
  {
   "cell_type": "code",
   "execution_count": 244,
   "metadata": {},
   "outputs": [
    {
     "data": {
      "text/plain": [
       "timeStamp\n",
       "2017-05-01     3\n",
       "2017-05-02     0\n",
       "2017-05-03     0\n",
       "2017-05-04     0\n",
       "2017-05-05     0\n",
       "              ..\n",
       "2021-07-12     7\n",
       "2021-07-13     0\n",
       "2021-07-14    11\n",
       "2021-07-15    12\n",
       "2021-07-16    11\n",
       "Freq: D, Name: hash, Length: 1538, dtype: int64"
      ]
     },
     "execution_count": 244,
     "metadata": {},
     "output_type": "execute_result"
    }
   ],
   "source": [
    "#number of buys\n",
    "hot_buy_per = df_test[df_test[\"out\"]==False].resample(\"D\", on = \"timeStamp\").hash.count()\n",
    "hot_buy_per"
   ]
  },
  {
   "cell_type": "code",
   "execution_count": 245,
   "metadata": {},
   "outputs": [
    {
     "data": {
      "text/html": [
       "<div>\n",
       "<style scoped>\n",
       "    .dataframe tbody tr th:only-of-type {\n",
       "        vertical-align: middle;\n",
       "    }\n",
       "\n",
       "    .dataframe tbody tr th {\n",
       "        vertical-align: top;\n",
       "    }\n",
       "\n",
       "    .dataframe thead th {\n",
       "        text-align: right;\n",
       "    }\n",
       "</style>\n",
       "<table border=\"1\" class=\"dataframe\">\n",
       "  <thead>\n",
       "    <tr style=\"text-align: right;\">\n",
       "      <th></th>\n",
       "      <th>p</th>\n",
       "    </tr>\n",
       "  </thead>\n",
       "  <tbody>\n",
       "    <tr>\n",
       "      <th>count</th>\n",
       "      <td>1537.000000</td>\n",
       "    </tr>\n",
       "    <tr>\n",
       "      <th>mean</th>\n",
       "      <td>3.409239</td>\n",
       "    </tr>\n",
       "    <tr>\n",
       "      <th>std</th>\n",
       "      <td>25.193465</td>\n",
       "    </tr>\n",
       "    <tr>\n",
       "      <th>min</th>\n",
       "      <td>-16.000000</td>\n",
       "    </tr>\n",
       "    <tr>\n",
       "      <th>25%</th>\n",
       "      <td>0.000000</td>\n",
       "    </tr>\n",
       "    <tr>\n",
       "      <th>50%</th>\n",
       "      <td>0.000000</td>\n",
       "    </tr>\n",
       "    <tr>\n",
       "      <th>75%</th>\n",
       "      <td>2.000000</td>\n",
       "    </tr>\n",
       "    <tr>\n",
       "      <th>max</th>\n",
       "      <td>877.000000</td>\n",
       "    </tr>\n",
       "  </tbody>\n",
       "</table>\n",
       "</div>"
      ],
      "text/plain": [
       "                 p\n",
       "count  1537.000000\n",
       "mean      3.409239\n",
       "std      25.193465\n",
       "min     -16.000000\n",
       "25%       0.000000\n",
       "50%       0.000000\n",
       "75%       2.000000\n",
       "max     877.000000"
      ]
     },
     "execution_count": 245,
     "metadata": {},
     "output_type": "execute_result"
    }
   ],
   "source": [
    "pressure_periods = pd.concat([hot_buy_per, hot_sell_per], axis = 1, join = \"inner\")\n",
    "pressure_periods = pressure_periods.rename({\"hash\":\"no_buys\", \"out\":\"no_sells\"}, axis = \"columns\")\n",
    "pressure_periods[\"p\"]= pressure_periods[\"no_buys\"] - pressure_periods[\"no_sells\"]\n",
    "pressure_periods[[\"p\"]].describe()"
   ]
  },
  {
   "cell_type": "code",
   "execution_count": 248,
   "metadata": {},
   "outputs": [
    {
     "data": {
      "text/html": [
       "<div>\n",
       "<style scoped>\n",
       "    .dataframe tbody tr th:only-of-type {\n",
       "        vertical-align: middle;\n",
       "    }\n",
       "\n",
       "    .dataframe tbody tr th {\n",
       "        vertical-align: top;\n",
       "    }\n",
       "\n",
       "    .dataframe thead th {\n",
       "        text-align: right;\n",
       "    }\n",
       "</style>\n",
       "<table border=\"1\" class=\"dataframe\">\n",
       "  <thead>\n",
       "    <tr style=\"text-align: right;\">\n",
       "      <th></th>\n",
       "      <th>no_buys</th>\n",
       "      <th>no_sells</th>\n",
       "      <th>p</th>\n",
       "    </tr>\n",
       "    <tr>\n",
       "      <th>timeStamp</th>\n",
       "      <th></th>\n",
       "      <th></th>\n",
       "      <th></th>\n",
       "    </tr>\n",
       "  </thead>\n",
       "  <tbody>\n",
       "    <tr>\n",
       "      <th>2021-04-22</th>\n",
       "      <td>30</td>\n",
       "      <td>46</td>\n",
       "      <td>-16</td>\n",
       "    </tr>\n",
       "    <tr>\n",
       "      <th>2020-11-14</th>\n",
       "      <td>0</td>\n",
       "      <td>14</td>\n",
       "      <td>-14</td>\n",
       "    </tr>\n",
       "    <tr>\n",
       "      <th>2020-10-29</th>\n",
       "      <td>6</td>\n",
       "      <td>19</td>\n",
       "      <td>-13</td>\n",
       "    </tr>\n",
       "    <tr>\n",
       "      <th>2020-11-16</th>\n",
       "      <td>2</td>\n",
       "      <td>13</td>\n",
       "      <td>-11</td>\n",
       "    </tr>\n",
       "    <tr>\n",
       "      <th>2020-10-24</th>\n",
       "      <td>5</td>\n",
       "      <td>16</td>\n",
       "      <td>-11</td>\n",
       "    </tr>\n",
       "    <tr>\n",
       "      <th>2018-05-05</th>\n",
       "      <td>0</td>\n",
       "      <td>10</td>\n",
       "      <td>-10</td>\n",
       "    </tr>\n",
       "    <tr>\n",
       "      <th>2020-12-26</th>\n",
       "      <td>4</td>\n",
       "      <td>13</td>\n",
       "      <td>-9</td>\n",
       "    </tr>\n",
       "    <tr>\n",
       "      <th>2020-11-20</th>\n",
       "      <td>5</td>\n",
       "      <td>14</td>\n",
       "      <td>-9</td>\n",
       "    </tr>\n",
       "    <tr>\n",
       "      <th>2020-12-10</th>\n",
       "      <td>4</td>\n",
       "      <td>12</td>\n",
       "      <td>-8</td>\n",
       "    </tr>\n",
       "    <tr>\n",
       "      <th>2021-07-03</th>\n",
       "      <td>11</td>\n",
       "      <td>19</td>\n",
       "      <td>-8</td>\n",
       "    </tr>\n",
       "  </tbody>\n",
       "</table>\n",
       "</div>"
      ],
      "text/plain": [
       "            no_buys  no_sells   p\n",
       "timeStamp                        \n",
       "2021-04-22       30        46 -16\n",
       "2020-11-14        0        14 -14\n",
       "2020-10-29        6        19 -13\n",
       "2020-11-16        2        13 -11\n",
       "2020-10-24        5        16 -11\n",
       "2018-05-05        0        10 -10\n",
       "2020-12-26        4        13  -9\n",
       "2020-11-20        5        14  -9\n",
       "2020-12-10        4        12  -8\n",
       "2021-07-03       11        19  -8"
      ]
     },
     "execution_count": 248,
     "metadata": {},
     "output_type": "execute_result"
    }
   ],
   "source": [
    "sorted_pp = pressure_periods.sort_values(by=[\"p\"])\n",
    "sorted_pp.head(10)\n"
   ]
  },
  {
   "cell_type": "code",
   "execution_count": 319,
   "metadata": {},
   "outputs": [
    {
     "data": {
      "text/html": [
       "<div>\n",
       "<style scoped>\n",
       "    .dataframe tbody tr th:only-of-type {\n",
       "        vertical-align: middle;\n",
       "    }\n",
       "\n",
       "    .dataframe tbody tr th {\n",
       "        vertical-align: top;\n",
       "    }\n",
       "\n",
       "    .dataframe thead th {\n",
       "        text-align: right;\n",
       "    }\n",
       "</style>\n",
       "<table border=\"1\" class=\"dataframe\">\n",
       "  <thead>\n",
       "    <tr style=\"text-align: right;\">\n",
       "      <th></th>\n",
       "      <th>no_buys</th>\n",
       "      <th>no_sells</th>\n",
       "      <th>p</th>\n",
       "    </tr>\n",
       "    <tr>\n",
       "      <th>timeStamp</th>\n",
       "      <th></th>\n",
       "      <th></th>\n",
       "      <th></th>\n",
       "    </tr>\n",
       "  </thead>\n",
       "  <tbody>\n",
       "    <tr>\n",
       "      <th>2021-04-22</th>\n",
       "      <td>30</td>\n",
       "      <td>46</td>\n",
       "      <td>-16</td>\n",
       "    </tr>\n",
       "    <tr>\n",
       "      <th>2020-11-14</th>\n",
       "      <td>0</td>\n",
       "      <td>14</td>\n",
       "      <td>-14</td>\n",
       "    </tr>\n",
       "    <tr>\n",
       "      <th>2020-10-29</th>\n",
       "      <td>6</td>\n",
       "      <td>19</td>\n",
       "      <td>-13</td>\n",
       "    </tr>\n",
       "    <tr>\n",
       "      <th>2020-11-16</th>\n",
       "      <td>2</td>\n",
       "      <td>13</td>\n",
       "      <td>-11</td>\n",
       "    </tr>\n",
       "    <tr>\n",
       "      <th>2020-10-24</th>\n",
       "      <td>5</td>\n",
       "      <td>16</td>\n",
       "      <td>-11</td>\n",
       "    </tr>\n",
       "    <tr>\n",
       "      <th>2018-05-05</th>\n",
       "      <td>0</td>\n",
       "      <td>10</td>\n",
       "      <td>-10</td>\n",
       "    </tr>\n",
       "    <tr>\n",
       "      <th>2020-12-26</th>\n",
       "      <td>4</td>\n",
       "      <td>13</td>\n",
       "      <td>-9</td>\n",
       "    </tr>\n",
       "    <tr>\n",
       "      <th>2020-11-20</th>\n",
       "      <td>5</td>\n",
       "      <td>14</td>\n",
       "      <td>-9</td>\n",
       "    </tr>\n",
       "    <tr>\n",
       "      <th>2020-12-10</th>\n",
       "      <td>4</td>\n",
       "      <td>12</td>\n",
       "      <td>-8</td>\n",
       "    </tr>\n",
       "    <tr>\n",
       "      <th>2021-07-03</th>\n",
       "      <td>11</td>\n",
       "      <td>19</td>\n",
       "      <td>-8</td>\n",
       "    </tr>\n",
       "  </tbody>\n",
       "</table>\n",
       "</div>"
      ],
      "text/plain": [
       "            no_buys  no_sells   p\n",
       "timeStamp                        \n",
       "2021-04-22       30        46 -16\n",
       "2020-11-14        0        14 -14\n",
       "2020-10-29        6        19 -13\n",
       "2020-11-16        2        13 -11\n",
       "2020-10-24        5        16 -11\n",
       "2018-05-05        0        10 -10\n",
       "2020-12-26        4        13  -9\n",
       "2020-11-20        5        14  -9\n",
       "2020-12-10        4        12  -8\n",
       "2021-07-03       11        19  -8"
      ]
     },
     "execution_count": 319,
     "metadata": {},
     "output_type": "execute_result"
    }
   ],
   "source": [
    "sellpump = sorted_pp.head(10)\n",
    "sellpump"
   ]
  },
  {
   "cell_type": "code",
   "execution_count": 338,
   "metadata": {},
   "outputs": [
    {
     "data": {
      "text/html": [
       "<div>\n",
       "<style scoped>\n",
       "    .dataframe tbody tr th:only-of-type {\n",
       "        vertical-align: middle;\n",
       "    }\n",
       "\n",
       "    .dataframe tbody tr th {\n",
       "        vertical-align: top;\n",
       "    }\n",
       "\n",
       "    .dataframe thead th {\n",
       "        text-align: right;\n",
       "    }\n",
       "</style>\n",
       "<table border=\"1\" class=\"dataframe\">\n",
       "  <thead>\n",
       "    <tr style=\"text-align: right;\">\n",
       "      <th></th>\n",
       "      <th>no_buys</th>\n",
       "      <th>no_sells</th>\n",
       "      <th>p</th>\n",
       "    </tr>\n",
       "    <tr>\n",
       "      <th>timeStamp</th>\n",
       "      <th></th>\n",
       "      <th></th>\n",
       "      <th></th>\n",
       "    </tr>\n",
       "  </thead>\n",
       "  <tbody>\n",
       "    <tr>\n",
       "      <th>2021-05-16</th>\n",
       "      <td>49</td>\n",
       "      <td>4</td>\n",
       "      <td>45</td>\n",
       "    </tr>\n",
       "    <tr>\n",
       "      <th>2021-04-27</th>\n",
       "      <td>52</td>\n",
       "      <td>6</td>\n",
       "      <td>46</td>\n",
       "    </tr>\n",
       "    <tr>\n",
       "      <th>2021-05-20</th>\n",
       "      <td>58</td>\n",
       "      <td>6</td>\n",
       "      <td>52</td>\n",
       "    </tr>\n",
       "    <tr>\n",
       "      <th>2021-05-03</th>\n",
       "      <td>53</td>\n",
       "      <td>1</td>\n",
       "      <td>52</td>\n",
       "    </tr>\n",
       "    <tr>\n",
       "      <th>2021-04-03</th>\n",
       "      <td>58</td>\n",
       "      <td>2</td>\n",
       "      <td>56</td>\n",
       "    </tr>\n",
       "    <tr>\n",
       "      <th>2021-04-01</th>\n",
       "      <td>144</td>\n",
       "      <td>15</td>\n",
       "      <td>129</td>\n",
       "    </tr>\n",
       "    <tr>\n",
       "      <th>2021-03-31</th>\n",
       "      <td>140</td>\n",
       "      <td>9</td>\n",
       "      <td>131</td>\n",
       "    </tr>\n",
       "    <tr>\n",
       "      <th>2021-03-30</th>\n",
       "      <td>197</td>\n",
       "      <td>9</td>\n",
       "      <td>188</td>\n",
       "    </tr>\n",
       "    <tr>\n",
       "      <th>2021-04-02</th>\n",
       "      <td>294</td>\n",
       "      <td>6</td>\n",
       "      <td>288</td>\n",
       "    </tr>\n",
       "    <tr>\n",
       "      <th>2021-03-29</th>\n",
       "      <td>892</td>\n",
       "      <td>15</td>\n",
       "      <td>877</td>\n",
       "    </tr>\n",
       "  </tbody>\n",
       "</table>\n",
       "</div>"
      ],
      "text/plain": [
       "            no_buys  no_sells    p\n",
       "timeStamp                         \n",
       "2021-05-16       49         4   45\n",
       "2021-04-27       52         6   46\n",
       "2021-05-20       58         6   52\n",
       "2021-05-03       53         1   52\n",
       "2021-04-03       58         2   56\n",
       "2021-04-01      144        15  129\n",
       "2021-03-31      140         9  131\n",
       "2021-03-30      197         9  188\n",
       "2021-04-02      294         6  288\n",
       "2021-03-29      892        15  877"
      ]
     },
     "execution_count": 338,
     "metadata": {},
     "output_type": "execute_result"
    }
   ],
   "source": [
    "buypump = sorted_pp.tail(10)\n",
    "buypump"
   ]
  },
  {
   "cell_type": "code",
   "execution_count": 335,
   "metadata": {},
   "outputs": [],
   "source": [
    "high_pressure_sells =[]\n",
    "\n",
    "for address in df3.wallet_address:\n",
    "    test = pd.DataFrame()\n",
    "    eth_bough = []\n",
    "    address_id = []\n",
    "    time_index = []\n",
    "    filter_df = df_test.loc[df_test[\"tx_from\"]==str(address)]\n",
    "    for i in filter_df.resample(\"D\", on = \"timeStamp\").eth_value.sum().index:\n",
    "        if i in sellpump.index: \n",
    "            filter2 = filter_df[filter_df[\"timeStamp\"]== str(i)]\n",
    "            address_id.append(address)\n",
    "            time_index.append(i)\n",
    "    test[\"address_id\"] = address_id\n",
    "    test[\"time_index\"] = time_index\n",
    "    high_pressure_sells.append(len(test))\n",
    "df3.loc[:,\"high_pressure_sells\"]= high_pressure_sells\n",
    "        #buys.append()"
   ]
  },
  {
   "cell_type": "code",
   "execution_count": 339,
   "metadata": {},
   "outputs": [],
   "source": [
    "high_pressure_buys =[]\n",
    "\n",
    "for address in df3.wallet_address:\n",
    "    test = pd.DataFrame()\n",
    "    eth_bough = []\n",
    "    address_id = []\n",
    "    time_index = []\n",
    "    filter_df = df_test.loc[df_test[\"tx_from\"]==str(address)]\n",
    "    for i in filter_df.resample(\"D\", on = \"timeStamp\").eth_value.sum().index:\n",
    "        if i in buypump.index: \n",
    "            filter2 = filter_df[filter_df[\"timeStamp\"]== str(i)]\n",
    "            address_id.append(address)\n",
    "            time_index.append(i)\n",
    "    test[\"address_id\"] = address_id\n",
    "    test[\"time_index\"] = time_index\n",
    "    high_pressure_buys.append(len(test))\n",
    "df3.loc[:,\"high_pressure_buys\"]= high_pressure_buys\n",
    "        #buys.append()"
   ]
  },
  {
   "cell_type": "code",
   "execution_count": 341,
   "metadata": {},
   "outputs": [],
   "source": [
    "df3.to_csv(\"second_data1709.csv\")"
   ]
  },
  {
   "cell_type": "markdown",
   "metadata": {},
   "source": [
    "## Get EL"
   ]
  },
  {
   "cell_type": "code",
   "execution_count": 150,
   "metadata": {},
   "outputs": [
    {
     "name": "stderr",
     "output_type": "stream",
     "text": [
      "<ipython-input-150-5c196cef28d0>:3: SettingWithCopyWarning: \n",
      "A value is trying to be set on a copy of a slice from a DataFrame.\n",
      "Try using .loc[row_indexer,col_indexer] = value instead\n",
      "\n",
      "See the caveats in the documentation: https://pandas.pydata.org/pandas-docs/stable/user_guide/indexing.html#returning-a-view-versus-a-copy\n",
      "  normal_trans_ELy[\"weight\"] = df_test[\"eth_valueUSD\"]+df_test[\"transaction_costUSD\"]\n"
     ]
    }
   ],
   "source": [
    "df_test\n",
    "normal_trans_ELy = df_test[[\"tx_from\", \"tx_to\"]]\n",
    "normal_trans_ELy[\"weight\"] = df_test[\"eth_valueUSD\"]+df_test[\"transaction_costUSD\"]"
   ]
  },
  {
   "cell_type": "code",
   "execution_count": null,
   "metadata": {},
   "outputs": [],
   "source": [
    "normal_trans_ELy"
   ]
  },
  {
   "cell_type": "code",
   "execution_count": null,
   "metadata": {},
   "outputs": [],
   "source": [
    "EL_ERCneighb_USD.head()"
   ]
  },
  {
   "cell_type": "code",
   "execution_count": 187,
   "metadata": {},
   "outputs": [
    {
     "name": "stderr",
     "output_type": "stream",
     "text": [
      "<ipython-input-187-e9849771caee>:3: SettingWithCopyWarning: \n",
      "A value is trying to be set on a copy of a slice from a DataFrame.\n",
      "Try using .loc[row_indexer,col_indexer] = value instead\n",
      "\n",
      "See the caveats in the documentation: https://pandas.pydata.org/pandas-docs/stable/user_guide/indexing.html#returning-a-view-versus-a-copy\n",
      "  finEL_ERCneighb_USD[\"weight\"] = EL_ERCneibUSD_small[\"eth_valueUSD\"]+EL_ERCneibUSD_small[\"transaction_costUSD\"]\n"
     ]
    }
   ],
   "source": [
    "EL_ERCneighb_USD.head()\n",
    "finEL_ERCneighb_USD = EL_ERCneibUSD_small[[\"tx_from\", \"tx_to\"]]#take only 10%\n",
    "finEL_ERCneighb_USD[\"weight\"] = EL_ERCneibUSD_small[\"eth_valueUSD\"]+EL_ERCneibUSD_small[\"transaction_costUSD\"]\n"
   ]
  },
  {
   "cell_type": "code",
   "execution_count": 153,
   "metadata": {},
   "outputs": [
    {
     "name": "stderr",
     "output_type": "stream",
     "text": [
      "<ipython-input-153-3a6d3bbca05f>:3: SettingWithCopyWarning: \n",
      "A value is trying to be set on a copy of a slice from a DataFrame.\n",
      "Try using .loc[row_indexer,col_indexer] = value instead\n",
      "\n",
      "See the caveats in the documentation: https://pandas.pydata.org/pandas-docs/stable/user_guide/indexing.html#returning-a-view-versus-a-copy\n",
      "  EL_origin_erc20y[\"weight\"] = df_origin_erc20_USD[\"eth_valueUSD\"]+df_origin_erc20_USD[\"transaction_costUSD\"]\n"
     ]
    }
   ],
   "source": [
    "df_origin_erc20_USD.head()\n",
    "EL_origin_erc20y = df_origin_erc20_USD[[\"tx_from\", \"tx_to\"]]\n",
    "EL_origin_erc20y[\"weight\"] = df_origin_erc20_USD[\"eth_valueUSD\"]+df_origin_erc20_USD[\"transaction_costUSD\"]"
   ]
  },
  {
   "cell_type": "code",
   "execution_count": 189,
   "metadata": {},
   "outputs": [
    {
     "name": "stderr",
     "output_type": "stream",
     "text": [
      "<ipython-input-189-098846bb639c>:3: SettingWithCopyWarning: \n",
      "A value is trying to be set on a copy of a slice from a DataFrame.\n",
      "Try using .loc[row_indexer,col_indexer] = value instead\n",
      "\n",
      "See the caveats in the documentation: https://pandas.pydata.org/pandas-docs/stable/user_guide/indexing.html#returning-a-view-versus-a-copy\n",
      "  EL_Neigh_norm[\"weight\"] = small_Neighb_normal_USD[\"eth_valueUSD\"]+small_Neighb_normal_USD[\"transaction_costUSD\"]\n"
     ]
    }
   ],
   "source": [
    "small_Neighb_normal_USD.head()\n",
    "EL_Neigh_norm = small_Neighb_normal_USD[[\"tx_from\", \"tx_to\"]]\n",
    "EL_Neigh_norm[\"weight\"] = small_Neighb_normal_USD[\"eth_valueUSD\"]+small_Neighb_normal_USD[\"transaction_costUSD\"]\n"
   ]
  },
  {
   "cell_type": "code",
   "execution_count": 190,
   "metadata": {},
   "outputs": [],
   "source": [
    "EL_final = normal_trans_ELy.append([EL_Neigh_norm, EL_origin_erc20y, finEL_ERCneighb_USD], ignore_index = True)"
   ]
  },
  {
   "cell_type": "code",
   "execution_count": 193,
   "metadata": {},
   "outputs": [],
   "source": [
    "EL_only_origin = normal_trans_ELy.append(EL_origin_erc20y, ignore_index = True)"
   ]
  },
  {
   "cell_type": "code",
   "execution_count": 196,
   "metadata": {},
   "outputs": [
    {
     "data": {
      "text/plain": [
       "tx_from    0\n",
       "tx_to      0\n",
       "weight     0\n",
       "dtype: int64"
      ]
     },
     "execution_count": 196,
     "metadata": {},
     "output_type": "execute_result"
    }
   ],
   "source": [
    "EL_only_origin.isnull().sum()"
   ]
  },
  {
   "cell_type": "code",
   "execution_count": 200,
   "metadata": {},
   "outputs": [],
   "source": [
    "EL_only_origin.to_csv(\"EL_only_origin.csv\")"
   ]
  }
 ],
 "metadata": {
  "interpreter": {
   "hash": "e7370f93d1d0cde622a1f8e1c04877d8463912d04d973331ad4851f04de6915a"
  },
  "kernelspec": {
   "display_name": "Python 3",
   "language": "python",
   "name": "python3"
  },
  "language_info": {
   "codemirror_mode": {
    "name": "ipython",
    "version": 3
   },
   "file_extension": ".py",
   "mimetype": "text/x-python",
   "name": "python",
   "nbconvert_exporter": "python",
   "pygments_lexer": "ipython3",
   "version": "3.8.5"
  }
 },
 "nbformat": 4,
 "nbformat_minor": 4
}
